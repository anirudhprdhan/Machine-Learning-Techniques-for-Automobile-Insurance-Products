{
  "nbformat": 4,
  "nbformat_minor": 0,
  "metadata": {
    "colab": {
      "provenance": [],
      "collapsed_sections": [
        "kaM3lU7xsnsY"
      ]
    },
    "kernelspec": {
      "name": "python3",
      "display_name": "Python 3"
    },
    "language_info": {
      "name": "python"
    }
  },
  "cells": [
    {
      "cell_type": "markdown",
      "source": [
        "Name:Anirudh Narayan Pradhan<br>Reg.No. 22551<br>Class: I MTech (CS)<br>DMACS<br>SSSIHL"
      ],
      "metadata": {
        "id": "EinTLQ8g8IAU"
      }
    },
    {
      "cell_type": "markdown",
      "source": [
        "# Insurance\n",
        "Mini project backend"
      ],
      "metadata": {
        "id": "3JoirmbLrBXo"
      }
    },
    {
      "cell_type": "markdown",
      "source": [
        "### Importing the required packages"
      ],
      "metadata": {
        "id": "UXDbz260OjI9"
      }
    },
    {
      "cell_type": "code",
      "execution_count": null,
      "metadata": {
        "id": "xqQvce0sq8LW"
      },
      "outputs": [],
      "source": [
        "import pandas as pd\n",
        "import numpy as np\n",
        "import matplotlib.pyplot as plt"
      ]
    },
    {
      "cell_type": "code",
      "source": [
        "from sklearn.metrics import confusion_matrix\n",
        "from sklearn.metrics import ConfusionMatrixDisplay\n",
        "from sklearn.metrics import recall_score, precision_score, f1_score,accuracy_score"
      ],
      "metadata": {
        "id": "c47wS1y2MDAn"
      },
      "execution_count": null,
      "outputs": []
    },
    {
      "cell_type": "code",
      "source": [
        "from sklearn.metrics import roc_auc_score\n",
        "from sklearn.metrics import roc_curve\n"
      ],
      "metadata": {
        "id": "6_9V6o5pgxxn"
      },
      "execution_count": null,
      "outputs": []
    },
    {
      "cell_type": "code",
      "source": [
        "# explicitly require this experimental feature\n",
        "from sklearn.experimental import enable_halving_search_cv # noqa\n",
        "# now you can import normally from model_selection\n",
        "from sklearn.model_selection import HalvingGridSearchCV"
      ],
      "metadata": {
        "id": "S40ijJ3uNoi8"
      },
      "execution_count": null,
      "outputs": []
    },
    {
      "cell_type": "markdown",
      "source": [
        "## Importing data"
      ],
      "metadata": {
        "id": "9zrVSoOmrD9o"
      }
    },
    {
      "cell_type": "code",
      "source": [
        "from google.colab import drive\n",
        "drive.mount('/content/drive')"
      ],
      "metadata": {
        "colab": {
          "base_uri": "https://localhost:8080/"
        },
        "id": "5S-OpRoLrI2u",
        "outputId": "dea7fdea-42cc-4138-fd4a-1655e552d966"
      },
      "execution_count": null,
      "outputs": [
        {
          "output_type": "stream",
          "name": "stdout",
          "text": [
            "Mounted at /content/drive\n"
          ]
        }
      ]
    },
    {
      "cell_type": "code",
      "source": [
        "df = pd.read_csv('/content/drive/MyDrive/Csv_Files/newinsure1.csv',index_col=0)"
      ],
      "metadata": {
        "id": "5qr_qOZ0rKh-"
      },
      "execution_count": null,
      "outputs": []
    },
    {
      "cell_type": "code",
      "source": [
        "# df=pd.read_csv('/content/newinsure1.csv')"
      ],
      "metadata": {
        "id": "8qZnFHopVDI3"
      },
      "execution_count": null,
      "outputs": []
    },
    {
      "cell_type": "markdown",
      "source": [
        "## Visualizing data"
      ],
      "metadata": {
        "id": "mrKpdFKTrTIP"
      }
    },
    {
      "cell_type": "markdown",
      "source": [
        "0 corresponds to the Personal insurance type<br>1 corresponds to the Corporate insurance type"
      ],
      "metadata": {
        "id": "z5r2TSycTpcJ"
      }
    },
    {
      "cell_type": "code",
      "source": [
        "df.info()"
      ],
      "metadata": {
        "colab": {
          "base_uri": "https://localhost:8080/"
        },
        "id": "hFtgj51yrV22",
        "outputId": "1001fdf6-0c41-40c5-891f-9e75883d2246"
      },
      "execution_count": null,
      "outputs": [
        {
          "output_type": "stream",
          "name": "stdout",
          "text": [
            "<class 'pandas.core.frame.DataFrame'>\n",
            "Int64Index: 8756 entries, 0 to 9133\n",
            "Data columns (total 10 columns):\n",
            " #   Column            Non-Null Count  Dtype \n",
            "---  ------            --------------  ----- \n",
            " 0   State             8756 non-null   object\n",
            " 1   Education         8756 non-null   object\n",
            " 2   EmploymentStatus  8756 non-null   object\n",
            " 3   Gender            8756 non-null   object\n",
            " 4   Income            8756 non-null   int64 \n",
            " 5   Location Code     8756 non-null   object\n",
            " 6   Marital Status    8756 non-null   object\n",
            " 7   Vehicle Class     8756 non-null   object\n",
            " 8   Vehicle Size      8756 non-null   object\n",
            " 9   Policy            8756 non-null   int64 \n",
            "dtypes: int64(2), object(8)\n",
            "memory usage: 752.5+ KB\n"
          ]
        }
      ]
    },
    {
      "cell_type": "code",
      "source": [
        "df.head()"
      ],
      "metadata": {
        "colab": {
          "base_uri": "https://localhost:8080/",
          "height": 206
        },
        "id": "5zoktNsUrXwm",
        "outputId": "44be2373-7611-4fe9-adc1-e24fb8d60451"
      },
      "execution_count": null,
      "outputs": [
        {
          "output_type": "execute_result",
          "data": {
            "text/plain": [
              "        State Education EmploymentStatus Gender  Income Location Code  \\\n",
              "0  Washington  Bachelor         Employed      F   56274      Suburban   \n",
              "1     Arizona  Bachelor       Unemployed      F       0      Suburban   \n",
              "2      Nevada  Bachelor         Employed      F   48767      Suburban   \n",
              "3  California  Bachelor       Unemployed      M       0      Suburban   \n",
              "4  Washington  Bachelor         Employed      M   43836         Rural   \n",
              "\n",
              "  Marital Status  Vehicle Class Vehicle Size  Policy  \n",
              "0        Married   Two-Door Car      Medsize       1  \n",
              "1         Single  Four-Door Car      Medsize       0  \n",
              "2        Married   Two-Door Car      Medsize       0  \n",
              "3        Married            SUV      Medsize       1  \n",
              "4         Single  Four-Door Car      Medsize       0  "
            ],
            "text/html": [
              "\n",
              "  <div id=\"df-e4a8fb96-b643-496f-80c2-fa7c7021b824\">\n",
              "    <div class=\"colab-df-container\">\n",
              "      <div>\n",
              "<style scoped>\n",
              "    .dataframe tbody tr th:only-of-type {\n",
              "        vertical-align: middle;\n",
              "    }\n",
              "\n",
              "    .dataframe tbody tr th {\n",
              "        vertical-align: top;\n",
              "    }\n",
              "\n",
              "    .dataframe thead th {\n",
              "        text-align: right;\n",
              "    }\n",
              "</style>\n",
              "<table border=\"1\" class=\"dataframe\">\n",
              "  <thead>\n",
              "    <tr style=\"text-align: right;\">\n",
              "      <th></th>\n",
              "      <th>State</th>\n",
              "      <th>Education</th>\n",
              "      <th>EmploymentStatus</th>\n",
              "      <th>Gender</th>\n",
              "      <th>Income</th>\n",
              "      <th>Location Code</th>\n",
              "      <th>Marital Status</th>\n",
              "      <th>Vehicle Class</th>\n",
              "      <th>Vehicle Size</th>\n",
              "      <th>Policy</th>\n",
              "    </tr>\n",
              "  </thead>\n",
              "  <tbody>\n",
              "    <tr>\n",
              "      <th>0</th>\n",
              "      <td>Washington</td>\n",
              "      <td>Bachelor</td>\n",
              "      <td>Employed</td>\n",
              "      <td>F</td>\n",
              "      <td>56274</td>\n",
              "      <td>Suburban</td>\n",
              "      <td>Married</td>\n",
              "      <td>Two-Door Car</td>\n",
              "      <td>Medsize</td>\n",
              "      <td>1</td>\n",
              "    </tr>\n",
              "    <tr>\n",
              "      <th>1</th>\n",
              "      <td>Arizona</td>\n",
              "      <td>Bachelor</td>\n",
              "      <td>Unemployed</td>\n",
              "      <td>F</td>\n",
              "      <td>0</td>\n",
              "      <td>Suburban</td>\n",
              "      <td>Single</td>\n",
              "      <td>Four-Door Car</td>\n",
              "      <td>Medsize</td>\n",
              "      <td>0</td>\n",
              "    </tr>\n",
              "    <tr>\n",
              "      <th>2</th>\n",
              "      <td>Nevada</td>\n",
              "      <td>Bachelor</td>\n",
              "      <td>Employed</td>\n",
              "      <td>F</td>\n",
              "      <td>48767</td>\n",
              "      <td>Suburban</td>\n",
              "      <td>Married</td>\n",
              "      <td>Two-Door Car</td>\n",
              "      <td>Medsize</td>\n",
              "      <td>0</td>\n",
              "    </tr>\n",
              "    <tr>\n",
              "      <th>3</th>\n",
              "      <td>California</td>\n",
              "      <td>Bachelor</td>\n",
              "      <td>Unemployed</td>\n",
              "      <td>M</td>\n",
              "      <td>0</td>\n",
              "      <td>Suburban</td>\n",
              "      <td>Married</td>\n",
              "      <td>SUV</td>\n",
              "      <td>Medsize</td>\n",
              "      <td>1</td>\n",
              "    </tr>\n",
              "    <tr>\n",
              "      <th>4</th>\n",
              "      <td>Washington</td>\n",
              "      <td>Bachelor</td>\n",
              "      <td>Employed</td>\n",
              "      <td>M</td>\n",
              "      <td>43836</td>\n",
              "      <td>Rural</td>\n",
              "      <td>Single</td>\n",
              "      <td>Four-Door Car</td>\n",
              "      <td>Medsize</td>\n",
              "      <td>0</td>\n",
              "    </tr>\n",
              "  </tbody>\n",
              "</table>\n",
              "</div>\n",
              "      <button class=\"colab-df-convert\" onclick=\"convertToInteractive('df-e4a8fb96-b643-496f-80c2-fa7c7021b824')\"\n",
              "              title=\"Convert this dataframe to an interactive table.\"\n",
              "              style=\"display:none;\">\n",
              "        \n",
              "  <svg xmlns=\"http://www.w3.org/2000/svg\" height=\"24px\"viewBox=\"0 0 24 24\"\n",
              "       width=\"24px\">\n",
              "    <path d=\"M0 0h24v24H0V0z\" fill=\"none\"/>\n",
              "    <path d=\"M18.56 5.44l.94 2.06.94-2.06 2.06-.94-2.06-.94-.94-2.06-.94 2.06-2.06.94zm-11 1L8.5 8.5l.94-2.06 2.06-.94-2.06-.94L8.5 2.5l-.94 2.06-2.06.94zm10 10l.94 2.06.94-2.06 2.06-.94-2.06-.94-.94-2.06-.94 2.06-2.06.94z\"/><path d=\"M17.41 7.96l-1.37-1.37c-.4-.4-.92-.59-1.43-.59-.52 0-1.04.2-1.43.59L10.3 9.45l-7.72 7.72c-.78.78-.78 2.05 0 2.83L4 21.41c.39.39.9.59 1.41.59.51 0 1.02-.2 1.41-.59l7.78-7.78 2.81-2.81c.8-.78.8-2.07 0-2.86zM5.41 20L4 18.59l7.72-7.72 1.47 1.35L5.41 20z\"/>\n",
              "  </svg>\n",
              "      </button>\n",
              "      \n",
              "  <style>\n",
              "    .colab-df-container {\n",
              "      display:flex;\n",
              "      flex-wrap:wrap;\n",
              "      gap: 12px;\n",
              "    }\n",
              "\n",
              "    .colab-df-convert {\n",
              "      background-color: #E8F0FE;\n",
              "      border: none;\n",
              "      border-radius: 50%;\n",
              "      cursor: pointer;\n",
              "      display: none;\n",
              "      fill: #1967D2;\n",
              "      height: 32px;\n",
              "      padding: 0 0 0 0;\n",
              "      width: 32px;\n",
              "    }\n",
              "\n",
              "    .colab-df-convert:hover {\n",
              "      background-color: #E2EBFA;\n",
              "      box-shadow: 0px 1px 2px rgba(60, 64, 67, 0.3), 0px 1px 3px 1px rgba(60, 64, 67, 0.15);\n",
              "      fill: #174EA6;\n",
              "    }\n",
              "\n",
              "    [theme=dark] .colab-df-convert {\n",
              "      background-color: #3B4455;\n",
              "      fill: #D2E3FC;\n",
              "    }\n",
              "\n",
              "    [theme=dark] .colab-df-convert:hover {\n",
              "      background-color: #434B5C;\n",
              "      box-shadow: 0px 1px 3px 1px rgba(0, 0, 0, 0.15);\n",
              "      filter: drop-shadow(0px 1px 2px rgba(0, 0, 0, 0.3));\n",
              "      fill: #FFFFFF;\n",
              "    }\n",
              "  </style>\n",
              "\n",
              "      <script>\n",
              "        const buttonEl =\n",
              "          document.querySelector('#df-e4a8fb96-b643-496f-80c2-fa7c7021b824 button.colab-df-convert');\n",
              "        buttonEl.style.display =\n",
              "          google.colab.kernel.accessAllowed ? 'block' : 'none';\n",
              "\n",
              "        async function convertToInteractive(key) {\n",
              "          const element = document.querySelector('#df-e4a8fb96-b643-496f-80c2-fa7c7021b824');\n",
              "          const dataTable =\n",
              "            await google.colab.kernel.invokeFunction('convertToInteractive',\n",
              "                                                     [key], {});\n",
              "          if (!dataTable) return;\n",
              "\n",
              "          const docLinkHtml = 'Like what you see? Visit the ' +\n",
              "            '<a target=\"_blank\" href=https://colab.research.google.com/notebooks/data_table.ipynb>data table notebook</a>'\n",
              "            + ' to learn more about interactive tables.';\n",
              "          element.innerHTML = '';\n",
              "          dataTable['output_type'] = 'display_data';\n",
              "          await google.colab.output.renderOutput(dataTable, element);\n",
              "          const docLink = document.createElement('div');\n",
              "          docLink.innerHTML = docLinkHtml;\n",
              "          element.appendChild(docLink);\n",
              "        }\n",
              "      </script>\n",
              "    </div>\n",
              "  </div>\n",
              "  "
            ]
          },
          "metadata": {},
          "execution_count": 16
        }
      ]
    },
    {
      "cell_type": "code",
      "source": [
        "df.Policy.value_counts()"
      ],
      "metadata": {
        "colab": {
          "base_uri": "https://localhost:8080/"
        },
        "id": "2FpPo6VXrZJt",
        "outputId": "f87ed7c5-abb5-45bd-a5c2-8d6b9cd7e1e1"
      },
      "execution_count": null,
      "outputs": [
        {
          "output_type": "execute_result",
          "data": {
            "text/plain": [
              "0    6788\n",
              "1    1968\n",
              "Name: Policy, dtype: int64"
            ]
          },
          "metadata": {},
          "execution_count": 17
        }
      ]
    },
    {
      "cell_type": "markdown",
      "source": [
        "## Preprocessing"
      ],
      "metadata": {
        "id": "T12Dz3oOrgrC"
      }
    },
    {
      "cell_type": "code",
      "source": [
        "from sklearn.impute import SimpleImputer\n",
        "\n",
        "imputer = SimpleImputer(strategy=\"median\")"
      ],
      "metadata": {
        "id": "WGGoY3U-rfC2"
      },
      "execution_count": null,
      "outputs": []
    },
    {
      "cell_type": "code",
      "source": [
        "from sklearn.preprocessing import StandardScaler\n",
        "\n",
        "std_scaler = StandardScaler()"
      ],
      "metadata": {
        "id": "rOVhmqeGrkJg"
      },
      "execution_count": null,
      "outputs": []
    },
    {
      "cell_type": "code",
      "source": [
        "from sklearn.pipeline import Pipeline\n",
        "numerical_pipeline = Pipeline([('imputer',imputer),('std_scaler',std_scaler)])"
      ],
      "metadata": {
        "id": "TjfUrxj4rngX"
      },
      "execution_count": null,
      "outputs": []
    },
    {
      "cell_type": "code",
      "source": [
        "from sklearn.preprocessing import OneHotEncoder\n",
        "\n",
        "categorical_encoder = OneHotEncoder()"
      ],
      "metadata": {
        "id": "8ZMJ_jFZro0p"
      },
      "execution_count": null,
      "outputs": []
    },
    {
      "cell_type": "code",
      "source": [
        "numerical_attri = list(df.select_dtypes(exclude=\"object\").columns)\n",
        "categorical_attri = list(df.select_dtypes(include=\"object\").columns)\n",
        "# numerical_attri.head\n",
        "# categorical_attri.remove(\"Policy\")\n",
        "print(categorical_attri)\n",
        "print(numerical_attri)\n",
        "numerical_attri.remove(\"Policy\")\n",
        "print(numerical_attri)"
      ],
      "metadata": {
        "colab": {
          "base_uri": "https://localhost:8080/"
        },
        "id": "ru8TrOhvrovO",
        "outputId": "e392fb07-504b-46dc-c680-65d21769e468"
      },
      "execution_count": null,
      "outputs": [
        {
          "output_type": "stream",
          "name": "stdout",
          "text": [
            "['State', 'Education', 'EmploymentStatus', 'Gender', 'Location Code', 'Marital Status', 'Vehicle Class', 'Vehicle Size']\n",
            "['Income', 'Policy']\n",
            "['Income']\n"
          ]
        }
      ]
    },
    {
      "cell_type": "code",
      "source": [
        "from sklearn.compose import ColumnTransformer\n",
        "full_pipeline = ColumnTransformer([(\"num\",numerical_pipeline,numerical_attri),(\"cat\",categorical_encoder,categorical_attri)])"
      ],
      "metadata": {
        "id": "NWJ823UfruRf"
      },
      "execution_count": null,
      "outputs": []
    },
    {
      "cell_type": "markdown",
      "source": [
        "### Splitting the dataset into train and test"
      ],
      "metadata": {
        "id": "0KyEg2g8sLzI"
      }
    },
    {
      "cell_type": "code",
      "source": [
        "from sklearn.model_selection import StratifiedShuffleSplit\n",
        "\n",
        "sss=StratifiedShuffleSplit(test_size=0.2,random_state=42)\n",
        "splitt=sss.split(X=df,y = df.Policy)\n",
        "for train_index,test_index in splitt:\n",
        "    strat_train_set = df.iloc[train_index]\n",
        "    strat_test_set = df.iloc[test_index]"
      ],
      "metadata": {
        "id": "wpbMMTkKr1Lr"
      },
      "execution_count": null,
      "outputs": []
    },
    {
      "cell_type": "code",
      "source": [
        "strat_train_set.head()"
      ],
      "metadata": {
        "colab": {
          "base_uri": "https://localhost:8080/",
          "height": 206
        },
        "id": "zuKCgG_YsQzg",
        "outputId": "fdb17590-61c1-42aa-c0df-213c9fa4970b"
      },
      "execution_count": null,
      "outputs": [
        {
          "output_type": "execute_result",
          "data": {
            "text/plain": [
              "           State             Education EmploymentStatus Gender  Income  \\\n",
              "8411  Washington               College         Employed      M   52464   \n",
              "5239  California               College         Employed      F   88375   \n",
              "2280  Washington  High School or Below         Employed      F   32314   \n",
              "8508  California               College          Retired      M   25251   \n",
              "2772      Nevada               College         Employed      F   59414   \n",
              "\n",
              "     Location Code Marital Status  Vehicle Class Vehicle Size  Policy  \n",
              "8411      Suburban        Married  Four-Door Car      Medsize       0  \n",
              "5239         Rural       Divorced  Four-Door Car      Medsize       0  \n",
              "2280      Suburban        Married  Four-Door Car      Medsize       0  \n",
              "8508      Suburban       Divorced  Four-Door Car      Medsize       1  \n",
              "2772         Urban        Married   Two-Door Car      Medsize       0  "
            ],
            "text/html": [
              "\n",
              "  <div id=\"df-08a1ead0-0790-45ee-92a8-b71e0af1e472\">\n",
              "    <div class=\"colab-df-container\">\n",
              "      <div>\n",
              "<style scoped>\n",
              "    .dataframe tbody tr th:only-of-type {\n",
              "        vertical-align: middle;\n",
              "    }\n",
              "\n",
              "    .dataframe tbody tr th {\n",
              "        vertical-align: top;\n",
              "    }\n",
              "\n",
              "    .dataframe thead th {\n",
              "        text-align: right;\n",
              "    }\n",
              "</style>\n",
              "<table border=\"1\" class=\"dataframe\">\n",
              "  <thead>\n",
              "    <tr style=\"text-align: right;\">\n",
              "      <th></th>\n",
              "      <th>State</th>\n",
              "      <th>Education</th>\n",
              "      <th>EmploymentStatus</th>\n",
              "      <th>Gender</th>\n",
              "      <th>Income</th>\n",
              "      <th>Location Code</th>\n",
              "      <th>Marital Status</th>\n",
              "      <th>Vehicle Class</th>\n",
              "      <th>Vehicle Size</th>\n",
              "      <th>Policy</th>\n",
              "    </tr>\n",
              "  </thead>\n",
              "  <tbody>\n",
              "    <tr>\n",
              "      <th>8411</th>\n",
              "      <td>Washington</td>\n",
              "      <td>College</td>\n",
              "      <td>Employed</td>\n",
              "      <td>M</td>\n",
              "      <td>52464</td>\n",
              "      <td>Suburban</td>\n",
              "      <td>Married</td>\n",
              "      <td>Four-Door Car</td>\n",
              "      <td>Medsize</td>\n",
              "      <td>0</td>\n",
              "    </tr>\n",
              "    <tr>\n",
              "      <th>5239</th>\n",
              "      <td>California</td>\n",
              "      <td>College</td>\n",
              "      <td>Employed</td>\n",
              "      <td>F</td>\n",
              "      <td>88375</td>\n",
              "      <td>Rural</td>\n",
              "      <td>Divorced</td>\n",
              "      <td>Four-Door Car</td>\n",
              "      <td>Medsize</td>\n",
              "      <td>0</td>\n",
              "    </tr>\n",
              "    <tr>\n",
              "      <th>2280</th>\n",
              "      <td>Washington</td>\n",
              "      <td>High School or Below</td>\n",
              "      <td>Employed</td>\n",
              "      <td>F</td>\n",
              "      <td>32314</td>\n",
              "      <td>Suburban</td>\n",
              "      <td>Married</td>\n",
              "      <td>Four-Door Car</td>\n",
              "      <td>Medsize</td>\n",
              "      <td>0</td>\n",
              "    </tr>\n",
              "    <tr>\n",
              "      <th>8508</th>\n",
              "      <td>California</td>\n",
              "      <td>College</td>\n",
              "      <td>Retired</td>\n",
              "      <td>M</td>\n",
              "      <td>25251</td>\n",
              "      <td>Suburban</td>\n",
              "      <td>Divorced</td>\n",
              "      <td>Four-Door Car</td>\n",
              "      <td>Medsize</td>\n",
              "      <td>1</td>\n",
              "    </tr>\n",
              "    <tr>\n",
              "      <th>2772</th>\n",
              "      <td>Nevada</td>\n",
              "      <td>College</td>\n",
              "      <td>Employed</td>\n",
              "      <td>F</td>\n",
              "      <td>59414</td>\n",
              "      <td>Urban</td>\n",
              "      <td>Married</td>\n",
              "      <td>Two-Door Car</td>\n",
              "      <td>Medsize</td>\n",
              "      <td>0</td>\n",
              "    </tr>\n",
              "  </tbody>\n",
              "</table>\n",
              "</div>\n",
              "      <button class=\"colab-df-convert\" onclick=\"convertToInteractive('df-08a1ead0-0790-45ee-92a8-b71e0af1e472')\"\n",
              "              title=\"Convert this dataframe to an interactive table.\"\n",
              "              style=\"display:none;\">\n",
              "        \n",
              "  <svg xmlns=\"http://www.w3.org/2000/svg\" height=\"24px\"viewBox=\"0 0 24 24\"\n",
              "       width=\"24px\">\n",
              "    <path d=\"M0 0h24v24H0V0z\" fill=\"none\"/>\n",
              "    <path d=\"M18.56 5.44l.94 2.06.94-2.06 2.06-.94-2.06-.94-.94-2.06-.94 2.06-2.06.94zm-11 1L8.5 8.5l.94-2.06 2.06-.94-2.06-.94L8.5 2.5l-.94 2.06-2.06.94zm10 10l.94 2.06.94-2.06 2.06-.94-2.06-.94-.94-2.06-.94 2.06-2.06.94z\"/><path d=\"M17.41 7.96l-1.37-1.37c-.4-.4-.92-.59-1.43-.59-.52 0-1.04.2-1.43.59L10.3 9.45l-7.72 7.72c-.78.78-.78 2.05 0 2.83L4 21.41c.39.39.9.59 1.41.59.51 0 1.02-.2 1.41-.59l7.78-7.78 2.81-2.81c.8-.78.8-2.07 0-2.86zM5.41 20L4 18.59l7.72-7.72 1.47 1.35L5.41 20z\"/>\n",
              "  </svg>\n",
              "      </button>\n",
              "      \n",
              "  <style>\n",
              "    .colab-df-container {\n",
              "      display:flex;\n",
              "      flex-wrap:wrap;\n",
              "      gap: 12px;\n",
              "    }\n",
              "\n",
              "    .colab-df-convert {\n",
              "      background-color: #E8F0FE;\n",
              "      border: none;\n",
              "      border-radius: 50%;\n",
              "      cursor: pointer;\n",
              "      display: none;\n",
              "      fill: #1967D2;\n",
              "      height: 32px;\n",
              "      padding: 0 0 0 0;\n",
              "      width: 32px;\n",
              "    }\n",
              "\n",
              "    .colab-df-convert:hover {\n",
              "      background-color: #E2EBFA;\n",
              "      box-shadow: 0px 1px 2px rgba(60, 64, 67, 0.3), 0px 1px 3px 1px rgba(60, 64, 67, 0.15);\n",
              "      fill: #174EA6;\n",
              "    }\n",
              "\n",
              "    [theme=dark] .colab-df-convert {\n",
              "      background-color: #3B4455;\n",
              "      fill: #D2E3FC;\n",
              "    }\n",
              "\n",
              "    [theme=dark] .colab-df-convert:hover {\n",
              "      background-color: #434B5C;\n",
              "      box-shadow: 0px 1px 3px 1px rgba(0, 0, 0, 0.15);\n",
              "      filter: drop-shadow(0px 1px 2px rgba(0, 0, 0, 0.3));\n",
              "      fill: #FFFFFF;\n",
              "    }\n",
              "  </style>\n",
              "\n",
              "      <script>\n",
              "        const buttonEl =\n",
              "          document.querySelector('#df-08a1ead0-0790-45ee-92a8-b71e0af1e472 button.colab-df-convert');\n",
              "        buttonEl.style.display =\n",
              "          google.colab.kernel.accessAllowed ? 'block' : 'none';\n",
              "\n",
              "        async function convertToInteractive(key) {\n",
              "          const element = document.querySelector('#df-08a1ead0-0790-45ee-92a8-b71e0af1e472');\n",
              "          const dataTable =\n",
              "            await google.colab.kernel.invokeFunction('convertToInteractive',\n",
              "                                                     [key], {});\n",
              "          if (!dataTable) return;\n",
              "\n",
              "          const docLinkHtml = 'Like what you see? Visit the ' +\n",
              "            '<a target=\"_blank\" href=https://colab.research.google.com/notebooks/data_table.ipynb>data table notebook</a>'\n",
              "            + ' to learn more about interactive tables.';\n",
              "          element.innerHTML = '';\n",
              "          dataTable['output_type'] = 'display_data';\n",
              "          await google.colab.output.renderOutput(dataTable, element);\n",
              "          const docLink = document.createElement('div');\n",
              "          docLink.innerHTML = docLinkHtml;\n",
              "          element.appendChild(docLink);\n",
              "        }\n",
              "      </script>\n",
              "    </div>\n",
              "  </div>\n",
              "  "
            ]
          },
          "metadata": {},
          "execution_count": 25
        }
      ]
    },
    {
      "cell_type": "code",
      "source": [
        "X_train=strat_train_set.copy()\n",
        "y_train=strat_train_set.Policy.copy()"
      ],
      "metadata": {
        "id": "IuX3GzoLsTkI"
      },
      "execution_count": null,
      "outputs": []
    },
    {
      "cell_type": "code",
      "source": [
        "y_train.head()"
      ],
      "metadata": {
        "colab": {
          "base_uri": "https://localhost:8080/"
        },
        "id": "zHTJGUy2sWon",
        "outputId": "56fe08e9-d8a1-43ac-bd0e-4b38b7ab1bc3"
      },
      "execution_count": null,
      "outputs": [
        {
          "output_type": "execute_result",
          "data": {
            "text/plain": [
              "8411    0\n",
              "5239    0\n",
              "2280    0\n",
              "8508    1\n",
              "2772    0\n",
              "Name: Policy, dtype: int64"
            ]
          },
          "metadata": {},
          "execution_count": 27
        }
      ]
    },
    {
      "cell_type": "code",
      "source": [
        "X_train.drop(columns='Policy',inplace=True)"
      ],
      "metadata": {
        "id": "ulnQZXoqsY8o"
      },
      "execution_count": null,
      "outputs": []
    },
    {
      "cell_type": "code",
      "source": [
        "X_train.head()"
      ],
      "metadata": {
        "colab": {
          "base_uri": "https://localhost:8080/",
          "height": 206
        },
        "id": "LGdhq5EDscJA",
        "outputId": "f2ab687f-f85a-4313-cf00-5a766009676a"
      },
      "execution_count": null,
      "outputs": [
        {
          "output_type": "execute_result",
          "data": {
            "text/plain": [
              "           State             Education EmploymentStatus Gender  Income  \\\n",
              "8411  Washington               College         Employed      M   52464   \n",
              "5239  California               College         Employed      F   88375   \n",
              "2280  Washington  High School or Below         Employed      F   32314   \n",
              "8508  California               College          Retired      M   25251   \n",
              "2772      Nevada               College         Employed      F   59414   \n",
              "\n",
              "     Location Code Marital Status  Vehicle Class Vehicle Size  \n",
              "8411      Suburban        Married  Four-Door Car      Medsize  \n",
              "5239         Rural       Divorced  Four-Door Car      Medsize  \n",
              "2280      Suburban        Married  Four-Door Car      Medsize  \n",
              "8508      Suburban       Divorced  Four-Door Car      Medsize  \n",
              "2772         Urban        Married   Two-Door Car      Medsize  "
            ],
            "text/html": [
              "\n",
              "  <div id=\"df-68ca62df-748d-4fbd-938b-df6e4d11b771\">\n",
              "    <div class=\"colab-df-container\">\n",
              "      <div>\n",
              "<style scoped>\n",
              "    .dataframe tbody tr th:only-of-type {\n",
              "        vertical-align: middle;\n",
              "    }\n",
              "\n",
              "    .dataframe tbody tr th {\n",
              "        vertical-align: top;\n",
              "    }\n",
              "\n",
              "    .dataframe thead th {\n",
              "        text-align: right;\n",
              "    }\n",
              "</style>\n",
              "<table border=\"1\" class=\"dataframe\">\n",
              "  <thead>\n",
              "    <tr style=\"text-align: right;\">\n",
              "      <th></th>\n",
              "      <th>State</th>\n",
              "      <th>Education</th>\n",
              "      <th>EmploymentStatus</th>\n",
              "      <th>Gender</th>\n",
              "      <th>Income</th>\n",
              "      <th>Location Code</th>\n",
              "      <th>Marital Status</th>\n",
              "      <th>Vehicle Class</th>\n",
              "      <th>Vehicle Size</th>\n",
              "    </tr>\n",
              "  </thead>\n",
              "  <tbody>\n",
              "    <tr>\n",
              "      <th>8411</th>\n",
              "      <td>Washington</td>\n",
              "      <td>College</td>\n",
              "      <td>Employed</td>\n",
              "      <td>M</td>\n",
              "      <td>52464</td>\n",
              "      <td>Suburban</td>\n",
              "      <td>Married</td>\n",
              "      <td>Four-Door Car</td>\n",
              "      <td>Medsize</td>\n",
              "    </tr>\n",
              "    <tr>\n",
              "      <th>5239</th>\n",
              "      <td>California</td>\n",
              "      <td>College</td>\n",
              "      <td>Employed</td>\n",
              "      <td>F</td>\n",
              "      <td>88375</td>\n",
              "      <td>Rural</td>\n",
              "      <td>Divorced</td>\n",
              "      <td>Four-Door Car</td>\n",
              "      <td>Medsize</td>\n",
              "    </tr>\n",
              "    <tr>\n",
              "      <th>2280</th>\n",
              "      <td>Washington</td>\n",
              "      <td>High School or Below</td>\n",
              "      <td>Employed</td>\n",
              "      <td>F</td>\n",
              "      <td>32314</td>\n",
              "      <td>Suburban</td>\n",
              "      <td>Married</td>\n",
              "      <td>Four-Door Car</td>\n",
              "      <td>Medsize</td>\n",
              "    </tr>\n",
              "    <tr>\n",
              "      <th>8508</th>\n",
              "      <td>California</td>\n",
              "      <td>College</td>\n",
              "      <td>Retired</td>\n",
              "      <td>M</td>\n",
              "      <td>25251</td>\n",
              "      <td>Suburban</td>\n",
              "      <td>Divorced</td>\n",
              "      <td>Four-Door Car</td>\n",
              "      <td>Medsize</td>\n",
              "    </tr>\n",
              "    <tr>\n",
              "      <th>2772</th>\n",
              "      <td>Nevada</td>\n",
              "      <td>College</td>\n",
              "      <td>Employed</td>\n",
              "      <td>F</td>\n",
              "      <td>59414</td>\n",
              "      <td>Urban</td>\n",
              "      <td>Married</td>\n",
              "      <td>Two-Door Car</td>\n",
              "      <td>Medsize</td>\n",
              "    </tr>\n",
              "  </tbody>\n",
              "</table>\n",
              "</div>\n",
              "      <button class=\"colab-df-convert\" onclick=\"convertToInteractive('df-68ca62df-748d-4fbd-938b-df6e4d11b771')\"\n",
              "              title=\"Convert this dataframe to an interactive table.\"\n",
              "              style=\"display:none;\">\n",
              "        \n",
              "  <svg xmlns=\"http://www.w3.org/2000/svg\" height=\"24px\"viewBox=\"0 0 24 24\"\n",
              "       width=\"24px\">\n",
              "    <path d=\"M0 0h24v24H0V0z\" fill=\"none\"/>\n",
              "    <path d=\"M18.56 5.44l.94 2.06.94-2.06 2.06-.94-2.06-.94-.94-2.06-.94 2.06-2.06.94zm-11 1L8.5 8.5l.94-2.06 2.06-.94-2.06-.94L8.5 2.5l-.94 2.06-2.06.94zm10 10l.94 2.06.94-2.06 2.06-.94-2.06-.94-.94-2.06-.94 2.06-2.06.94z\"/><path d=\"M17.41 7.96l-1.37-1.37c-.4-.4-.92-.59-1.43-.59-.52 0-1.04.2-1.43.59L10.3 9.45l-7.72 7.72c-.78.78-.78 2.05 0 2.83L4 21.41c.39.39.9.59 1.41.59.51 0 1.02-.2 1.41-.59l7.78-7.78 2.81-2.81c.8-.78.8-2.07 0-2.86zM5.41 20L4 18.59l7.72-7.72 1.47 1.35L5.41 20z\"/>\n",
              "  </svg>\n",
              "      </button>\n",
              "      \n",
              "  <style>\n",
              "    .colab-df-container {\n",
              "      display:flex;\n",
              "      flex-wrap:wrap;\n",
              "      gap: 12px;\n",
              "    }\n",
              "\n",
              "    .colab-df-convert {\n",
              "      background-color: #E8F0FE;\n",
              "      border: none;\n",
              "      border-radius: 50%;\n",
              "      cursor: pointer;\n",
              "      display: none;\n",
              "      fill: #1967D2;\n",
              "      height: 32px;\n",
              "      padding: 0 0 0 0;\n",
              "      width: 32px;\n",
              "    }\n",
              "\n",
              "    .colab-df-convert:hover {\n",
              "      background-color: #E2EBFA;\n",
              "      box-shadow: 0px 1px 2px rgba(60, 64, 67, 0.3), 0px 1px 3px 1px rgba(60, 64, 67, 0.15);\n",
              "      fill: #174EA6;\n",
              "    }\n",
              "\n",
              "    [theme=dark] .colab-df-convert {\n",
              "      background-color: #3B4455;\n",
              "      fill: #D2E3FC;\n",
              "    }\n",
              "\n",
              "    [theme=dark] .colab-df-convert:hover {\n",
              "      background-color: #434B5C;\n",
              "      box-shadow: 0px 1px 3px 1px rgba(0, 0, 0, 0.15);\n",
              "      filter: drop-shadow(0px 1px 2px rgba(0, 0, 0, 0.3));\n",
              "      fill: #FFFFFF;\n",
              "    }\n",
              "  </style>\n",
              "\n",
              "      <script>\n",
              "        const buttonEl =\n",
              "          document.querySelector('#df-68ca62df-748d-4fbd-938b-df6e4d11b771 button.colab-df-convert');\n",
              "        buttonEl.style.display =\n",
              "          google.colab.kernel.accessAllowed ? 'block' : 'none';\n",
              "\n",
              "        async function convertToInteractive(key) {\n",
              "          const element = document.querySelector('#df-68ca62df-748d-4fbd-938b-df6e4d11b771');\n",
              "          const dataTable =\n",
              "            await google.colab.kernel.invokeFunction('convertToInteractive',\n",
              "                                                     [key], {});\n",
              "          if (!dataTable) return;\n",
              "\n",
              "          const docLinkHtml = 'Like what you see? Visit the ' +\n",
              "            '<a target=\"_blank\" href=https://colab.research.google.com/notebooks/data_table.ipynb>data table notebook</a>'\n",
              "            + ' to learn more about interactive tables.';\n",
              "          element.innerHTML = '';\n",
              "          dataTable['output_type'] = 'display_data';\n",
              "          await google.colab.output.renderOutput(dataTable, element);\n",
              "          const docLink = document.createElement('div');\n",
              "          docLink.innerHTML = docLinkHtml;\n",
              "          element.appendChild(docLink);\n",
              "        }\n",
              "      </script>\n",
              "    </div>\n",
              "  </div>\n",
              "  "
            ]
          },
          "metadata": {},
          "execution_count": 29
        }
      ]
    },
    {
      "cell_type": "markdown",
      "source": [
        "### Encoding the categorical attributes"
      ],
      "metadata": {
        "id": "kaM3lU7xsnsY"
      }
    },
    {
      "cell_type": "code",
      "source": [
        "x_train=full_pipeline.fit_transform(X_train)"
      ],
      "metadata": {
        "id": "nuMvKH9Isr9Y"
      },
      "execution_count": null,
      "outputs": []
    },
    {
      "cell_type": "markdown",
      "source": [
        "### Preprocessing for test data"
      ],
      "metadata": {
        "id": "MZcRAaPoP7fv"
      }
    },
    {
      "cell_type": "code",
      "source": [
        "X_test=strat_test_set.copy()\n",
        "y_test=strat_test_set.Policy.copy()"
      ],
      "metadata": {
        "id": "y3ieNc8uP-iV"
      },
      "execution_count": null,
      "outputs": []
    },
    {
      "cell_type": "code",
      "source": [
        "X_test.drop(columns='Policy',inplace=True)"
      ],
      "metadata": {
        "id": "geuFsancQE72"
      },
      "execution_count": null,
      "outputs": []
    },
    {
      "cell_type": "code",
      "source": [
        "x_test=full_pipeline.fit_transform(X_test)"
      ],
      "metadata": {
        "id": "bDnjJwALQK_d"
      },
      "execution_count": null,
      "outputs": []
    },
    {
      "cell_type": "markdown",
      "source": [
        "## SVM"
      ],
      "metadata": {
        "id": "0BSQgHRiLyM0"
      }
    },
    {
      "cell_type": "code",
      "source": [
        "from sklearn.svm import SVC\n",
        "svc=SVC()"
      ],
      "metadata": {
        "id": "sm7mNsrPL0hX"
      },
      "execution_count": null,
      "outputs": []
    },
    {
      "cell_type": "code",
      "source": [],
      "metadata": {
        "id": "6yAHalLsNngu"
      },
      "execution_count": null,
      "outputs": []
    },
    {
      "cell_type": "code",
      "source": [
        "param_grid = {'C':  np.arange(2, 10, 2),'gamma': np.arange(0.1, 1, 0.2),'kernel': ['linear','poly']}\n",
        "\n",
        "grid = HalvingGridSearchCV(svc, param_grid, verbose = 3)"
      ],
      "metadata": {
        "id": "MZhsWCkwL_7f"
      },
      "execution_count": null,
      "outputs": []
    },
    {
      "cell_type": "code",
      "source": [
        "grid.fit(x_train,y_train)"
      ],
      "metadata": {
        "colab": {
          "base_uri": "https://localhost:8080/",
          "height": 1000
        },
        "id": "WiJsRS_XMbZ8",
        "outputId": "a2e21d4c-0cc2-46b2-8303-ab98128b90f4"
      },
      "execution_count": null,
      "outputs": [
        {
          "output_type": "stream",
          "name": "stdout",
          "text": [
            "n_iterations: 4\n",
            "n_required_iterations: 4\n",
            "n_possible_iterations: 4\n",
            "min_resources_: 259\n",
            "max_resources_: 7004\n",
            "aggressive_elimination: False\n",
            "factor: 3\n",
            "----------\n",
            "iter: 0\n",
            "n_candidates: 40\n",
            "n_resources: 259\n",
            "Fitting 5 folds for each of 40 candidates, totalling 200 fits\n",
            "[CV 1/5] END C=2, gamma=0.1, kernel=linear;, score=(train=0.826, test=0.765) total time=   0.0s\n",
            "[CV 2/5] END C=2, gamma=0.1, kernel=linear;, score=(train=0.797, test=0.765) total time=   0.0s\n",
            "[CV 3/5] END C=2, gamma=0.1, kernel=linear;, score=(train=0.758, test=0.824) total time=   0.0s\n",
            "[CV 4/5] END C=2, gamma=0.1, kernel=linear;, score=(train=0.725, test=0.863) total time=   0.0s\n",
            "[CV 5/5] END C=2, gamma=0.1, kernel=linear;, score=(train=0.768, test=0.863) total time=   0.0s\n",
            "[CV 1/5] END C=2, gamma=0.1, kernel=poly;, score=(train=0.845, test=0.765) total time=   0.0s\n",
            "[CV 2/5] END C=2, gamma=0.1, kernel=poly;, score=(train=0.821, test=0.765) total time=   0.0s\n",
            "[CV 3/5] END C=2, gamma=0.1, kernel=poly;, score=(train=0.816, test=0.863) total time=   0.0s\n",
            "[CV 4/5] END C=2, gamma=0.1, kernel=poly;, score=(train=0.821, test=0.843) total time=   0.0s\n",
            "[CV 5/5] END C=2, gamma=0.1, kernel=poly;, score=(train=0.807, test=0.882) total time=   0.0s\n",
            "[CV 1/5] END C=2, gamma=0.30000000000000004, kernel=linear;, score=(train=0.826, test=0.765) total time=   0.0s\n",
            "[CV 2/5] END C=2, gamma=0.30000000000000004, kernel=linear;, score=(train=0.797, test=0.765) total time=   0.0s\n",
            "[CV 3/5] END C=2, gamma=0.30000000000000004, kernel=linear;, score=(train=0.758, test=0.824) total time=   0.0s\n",
            "[CV 4/5] END C=2, gamma=0.30000000000000004, kernel=linear;, score=(train=0.725, test=0.863) total time=   0.0s\n",
            "[CV 5/5] END C=2, gamma=0.30000000000000004, kernel=linear;, score=(train=0.768, test=0.863) total time=   0.0s\n",
            "[CV 1/5] END C=2, gamma=0.30000000000000004, kernel=poly;, score=(train=0.986, test=0.608) total time=   0.0s\n",
            "[CV 2/5] END C=2, gamma=0.30000000000000004, kernel=poly;, score=(train=0.995, test=0.667) total time=   0.0s\n",
            "[CV 3/5] END C=2, gamma=0.30000000000000004, kernel=poly;, score=(train=0.995, test=0.686) total time=   0.0s\n",
            "[CV 4/5] END C=2, gamma=0.30000000000000004, kernel=poly;, score=(train=0.986, test=0.608) total time=   0.0s\n",
            "[CV 5/5] END C=2, gamma=0.30000000000000004, kernel=poly;, score=(train=0.995, test=0.725) total time=   0.0s\n",
            "[CV 1/5] END C=2, gamma=0.5000000000000001, kernel=linear;, score=(train=0.826, test=0.765) total time=   0.0s\n",
            "[CV 2/5] END C=2, gamma=0.5000000000000001, kernel=linear;, score=(train=0.797, test=0.765) total time=   0.0s\n",
            "[CV 3/5] END C=2, gamma=0.5000000000000001, kernel=linear;, score=(train=0.758, test=0.824) total time=   0.0s\n",
            "[CV 4/5] END C=2, gamma=0.5000000000000001, kernel=linear;, score=(train=0.725, test=0.863) total time=   0.0s\n",
            "[CV 5/5] END C=2, gamma=0.5000000000000001, kernel=linear;, score=(train=0.768, test=0.863) total time=   0.0s\n",
            "[CV 1/5] END C=2, gamma=0.5000000000000001, kernel=poly;, score=(train=0.990, test=0.647) total time=   0.0s\n",
            "[CV 2/5] END C=2, gamma=0.5000000000000001, kernel=poly;, score=(train=1.000, test=0.667) total time=   0.0s\n",
            "[CV 3/5] END C=2, gamma=0.5000000000000001, kernel=poly;, score=(train=1.000, test=0.745) total time=   0.0s\n",
            "[CV 4/5] END C=2, gamma=0.5000000000000001, kernel=poly;, score=(train=0.995, test=0.588) total time=   0.0s\n",
            "[CV 5/5] END C=2, gamma=0.5000000000000001, kernel=poly;, score=(train=0.995, test=0.725) total time=   0.0s\n",
            "[CV 1/5] END C=2, gamma=0.7000000000000001, kernel=linear;, score=(train=0.826, test=0.765) total time=   0.0s\n",
            "[CV 2/5] END C=2, gamma=0.7000000000000001, kernel=linear;, score=(train=0.797, test=0.765) total time=   0.0s\n",
            "[CV 3/5] END C=2, gamma=0.7000000000000001, kernel=linear;, score=(train=0.758, test=0.824) total time=   0.0s\n",
            "[CV 4/5] END C=2, gamma=0.7000000000000001, kernel=linear;, score=(train=0.725, test=0.863) total time=   0.0s\n",
            "[CV 5/5] END C=2, gamma=0.7000000000000001, kernel=linear;, score=(train=0.768, test=0.863) total time=   0.0s\n",
            "[CV 1/5] END C=2, gamma=0.7000000000000001, kernel=poly;, score=(train=0.990, test=0.647) total time=   0.0s\n",
            "[CV 2/5] END C=2, gamma=0.7000000000000001, kernel=poly;, score=(train=1.000, test=0.667) total time=   0.0s\n",
            "[CV 3/5] END C=2, gamma=0.7000000000000001, kernel=poly;, score=(train=1.000, test=0.745) total time=   0.0s\n",
            "[CV 4/5] END C=2, gamma=0.7000000000000001, kernel=poly;, score=(train=0.995, test=0.549) total time=   0.0s\n",
            "[CV 5/5] END C=2, gamma=0.7000000000000001, kernel=poly;, score=(train=1.000, test=0.745) total time=   0.0s\n",
            "[CV 1/5] END C=2, gamma=0.9000000000000001, kernel=linear;, score=(train=0.826, test=0.765) total time=   0.0s\n",
            "[CV 2/5] END C=2, gamma=0.9000000000000001, kernel=linear;, score=(train=0.797, test=0.765) total time=   0.0s\n",
            "[CV 3/5] END C=2, gamma=0.9000000000000001, kernel=linear;, score=(train=0.758, test=0.824) total time=   0.0s\n",
            "[CV 4/5] END C=2, gamma=0.9000000000000001, kernel=linear;, score=(train=0.725, test=0.863) total time=   0.0s\n",
            "[CV 5/5] END C=2, gamma=0.9000000000000001, kernel=linear;, score=(train=0.768, test=0.863) total time=   0.0s\n",
            "[CV 1/5] END C=2, gamma=0.9000000000000001, kernel=poly;, score=(train=0.990, test=0.647) total time=   0.0s\n",
            "[CV 2/5] END C=2, gamma=0.9000000000000001, kernel=poly;, score=(train=1.000, test=0.667) total time=   0.0s\n",
            "[CV 3/5] END C=2, gamma=0.9000000000000001, kernel=poly;, score=(train=1.000, test=0.745) total time=   0.0s\n",
            "[CV 4/5] END C=2, gamma=0.9000000000000001, kernel=poly;, score=(train=0.995, test=0.549) total time=   0.0s\n",
            "[CV 5/5] END C=2, gamma=0.9000000000000001, kernel=poly;, score=(train=1.000, test=0.725) total time=   0.0s\n",
            "[CV 1/5] END C=4, gamma=0.1, kernel=linear;, score=(train=0.826, test=0.765) total time=   0.0s\n",
            "[CV 2/5] END C=4, gamma=0.1, kernel=linear;, score=(train=0.797, test=0.765) total time=   0.0s\n",
            "[CV 3/5] END C=4, gamma=0.1, kernel=linear;, score=(train=0.758, test=0.824) total time=   0.0s\n",
            "[CV 4/5] END C=4, gamma=0.1, kernel=linear;, score=(train=0.725, test=0.863) total time=   0.0s\n",
            "[CV 5/5] END C=4, gamma=0.1, kernel=linear;, score=(train=0.768, test=0.863) total time=   0.0s\n",
            "[CV 1/5] END C=4, gamma=0.1, kernel=poly;, score=(train=0.942, test=0.745) total time=   0.0s\n",
            "[CV 2/5] END C=4, gamma=0.1, kernel=poly;, score=(train=0.899, test=0.706) total time=   0.0s\n",
            "[CV 3/5] END C=4, gamma=0.1, kernel=poly;, score=(train=0.918, test=0.804) total time=   0.0s\n",
            "[CV 4/5] END C=4, gamma=0.1, kernel=poly;, score=(train=0.918, test=0.725) total time=   0.0s\n",
            "[CV 5/5] END C=4, gamma=0.1, kernel=poly;, score=(train=0.918, test=0.863) total time=   0.0s\n",
            "[CV 1/5] END C=4, gamma=0.30000000000000004, kernel=linear;, score=(train=0.826, test=0.765) total time=   0.0s\n",
            "[CV 2/5] END C=4, gamma=0.30000000000000004, kernel=linear;, score=(train=0.797, test=0.765) total time=   0.0s\n",
            "[CV 3/5] END C=4, gamma=0.30000000000000004, kernel=linear;, score=(train=0.758, test=0.824) total time=   0.0s\n",
            "[CV 4/5] END C=4, gamma=0.30000000000000004, kernel=linear;, score=(train=0.725, test=0.863) total time=   0.0s\n",
            "[CV 5/5] END C=4, gamma=0.30000000000000004, kernel=linear;, score=(train=0.768, test=0.863) total time=   0.0s\n",
            "[CV 1/5] END C=4, gamma=0.30000000000000004, kernel=poly;, score=(train=0.990, test=0.647) total time=   0.0s\n",
            "[CV 2/5] END C=4, gamma=0.30000000000000004, kernel=poly;, score=(train=0.995, test=0.667) total time=   0.0s\n",
            "[CV 3/5] END C=4, gamma=0.30000000000000004, kernel=poly;, score=(train=0.995, test=0.686) total time=   0.0s\n",
            "[CV 4/5] END C=4, gamma=0.30000000000000004, kernel=poly;, score=(train=0.990, test=0.627) total time=   0.0s\n",
            "[CV 5/5] END C=4, gamma=0.30000000000000004, kernel=poly;, score=(train=0.995, test=0.706) total time=   0.0s\n",
            "[CV 1/5] END C=4, gamma=0.5000000000000001, kernel=linear;, score=(train=0.826, test=0.765) total time=   0.0s\n",
            "[CV 2/5] END C=4, gamma=0.5000000000000001, kernel=linear;, score=(train=0.797, test=0.765) total time=   0.0s\n",
            "[CV 3/5] END C=4, gamma=0.5000000000000001, kernel=linear;, score=(train=0.758, test=0.824) total time=   0.0s\n",
            "[CV 4/5] END C=4, gamma=0.5000000000000001, kernel=linear;, score=(train=0.725, test=0.863) total time=   0.0s\n",
            "[CV 5/5] END C=4, gamma=0.5000000000000001, kernel=linear;, score=(train=0.768, test=0.863) total time=   0.0s\n",
            "[CV 1/5] END C=4, gamma=0.5000000000000001, kernel=poly;, score=(train=0.990, test=0.647) total time=   0.0s\n",
            "[CV 2/5] END C=4, gamma=0.5000000000000001, kernel=poly;, score=(train=1.000, test=0.667) total time=   0.0s\n",
            "[CV 3/5] END C=4, gamma=0.5000000000000001, kernel=poly;, score=(train=1.000, test=0.745) total time=   0.0s\n",
            "[CV 4/5] END C=4, gamma=0.5000000000000001, kernel=poly;, score=(train=0.995, test=0.549) total time=   0.0s\n",
            "[CV 5/5] END C=4, gamma=0.5000000000000001, kernel=poly;, score=(train=1.000, test=0.745) total time=   0.0s\n",
            "[CV 1/5] END C=4, gamma=0.7000000000000001, kernel=linear;, score=(train=0.826, test=0.765) total time=   0.0s\n",
            "[CV 2/5] END C=4, gamma=0.7000000000000001, kernel=linear;, score=(train=0.797, test=0.765) total time=   0.0s\n",
            "[CV 3/5] END C=4, gamma=0.7000000000000001, kernel=linear;, score=(train=0.758, test=0.824) total time=   0.0s\n",
            "[CV 4/5] END C=4, gamma=0.7000000000000001, kernel=linear;, score=(train=0.725, test=0.863) total time=   0.0s\n",
            "[CV 5/5] END C=4, gamma=0.7000000000000001, kernel=linear;, score=(train=0.768, test=0.863) total time=   0.0s\n",
            "[CV 1/5] END C=4, gamma=0.7000000000000001, kernel=poly;, score=(train=0.990, test=0.647) total time=   0.0s\n",
            "[CV 2/5] END C=4, gamma=0.7000000000000001, kernel=poly;, score=(train=1.000, test=0.667) total time=   0.0s\n",
            "[CV 3/5] END C=4, gamma=0.7000000000000001, kernel=poly;, score=(train=1.000, test=0.745) total time=   0.0s\n",
            "[CV 4/5] END C=4, gamma=0.7000000000000001, kernel=poly;, score=(train=0.995, test=0.549) total time=   0.0s\n",
            "[CV 5/5] END C=4, gamma=0.7000000000000001, kernel=poly;, score=(train=1.000, test=0.725) total time=   0.0s\n",
            "[CV 1/5] END C=4, gamma=0.9000000000000001, kernel=linear;, score=(train=0.826, test=0.765) total time=   0.0s\n",
            "[CV 2/5] END C=4, gamma=0.9000000000000001, kernel=linear;, score=(train=0.797, test=0.765) total time=   0.0s\n",
            "[CV 3/5] END C=4, gamma=0.9000000000000001, kernel=linear;, score=(train=0.758, test=0.824) total time=   0.0s\n",
            "[CV 4/5] END C=4, gamma=0.9000000000000001, kernel=linear;, score=(train=0.725, test=0.863) total time=   0.0s\n",
            "[CV 5/5] END C=4, gamma=0.9000000000000001, kernel=linear;, score=(train=0.768, test=0.863) total time=   0.0s\n",
            "[CV 1/5] END C=4, gamma=0.9000000000000001, kernel=poly;, score=(train=0.990, test=0.647) total time=   0.0s\n",
            "[CV 2/5] END C=4, gamma=0.9000000000000001, kernel=poly;, score=(train=1.000, test=0.667) total time=   0.0s\n",
            "[CV 3/5] END C=4, gamma=0.9000000000000001, kernel=poly;, score=(train=1.000, test=0.745) total time=   0.0s\n",
            "[CV 4/5] END C=4, gamma=0.9000000000000001, kernel=poly;, score=(train=0.995, test=0.549) total time=   0.0s\n",
            "[CV 5/5] END C=4, gamma=0.9000000000000001, kernel=poly;, score=(train=1.000, test=0.725) total time=   0.0s\n",
            "[CV 1/5] END C=6, gamma=0.1, kernel=linear;, score=(train=0.826, test=0.765) total time=   0.0s\n",
            "[CV 2/5] END C=6, gamma=0.1, kernel=linear;, score=(train=0.797, test=0.765) total time=   0.0s\n",
            "[CV 3/5] END C=6, gamma=0.1, kernel=linear;, score=(train=0.758, test=0.824) total time=   0.0s\n",
            "[CV 4/5] END C=6, gamma=0.1, kernel=linear;, score=(train=0.725, test=0.863) total time=   0.0s\n",
            "[CV 5/5] END C=6, gamma=0.1, kernel=linear;, score=(train=0.768, test=0.863) total time=   0.0s\n",
            "[CV 1/5] END C=6, gamma=0.1, kernel=poly;, score=(train=0.966, test=0.725) total time=   0.0s\n",
            "[CV 2/5] END C=6, gamma=0.1, kernel=poly;, score=(train=0.942, test=0.686) total time=   0.0s\n",
            "[CV 3/5] END C=6, gamma=0.1, kernel=poly;, score=(train=0.961, test=0.804) total time=   0.0s\n",
            "[CV 4/5] END C=6, gamma=0.1, kernel=poly;, score=(train=0.957, test=0.686) total time=   0.0s\n",
            "[CV 5/5] END C=6, gamma=0.1, kernel=poly;, score=(train=0.937, test=0.784) total time=   0.0s\n",
            "[CV 1/5] END C=6, gamma=0.30000000000000004, kernel=linear;, score=(train=0.826, test=0.765) total time=   0.0s\n",
            "[CV 2/5] END C=6, gamma=0.30000000000000004, kernel=linear;, score=(train=0.797, test=0.765) total time=   0.0s\n",
            "[CV 3/5] END C=6, gamma=0.30000000000000004, kernel=linear;, score=(train=0.758, test=0.824) total time=   0.0s\n",
            "[CV 4/5] END C=6, gamma=0.30000000000000004, kernel=linear;, score=(train=0.725, test=0.863) total time=   0.0s\n",
            "[CV 5/5] END C=6, gamma=0.30000000000000004, kernel=linear;, score=(train=0.768, test=0.863) total time=   0.0s\n",
            "[CV 1/5] END C=6, gamma=0.30000000000000004, kernel=poly;, score=(train=0.990, test=0.647) total time=   0.0s\n",
            "[CV 2/5] END C=6, gamma=0.30000000000000004, kernel=poly;, score=(train=1.000, test=0.667) total time=   0.0s\n",
            "[CV 3/5] END C=6, gamma=0.30000000000000004, kernel=poly;, score=(train=0.995, test=0.686) total time=   0.0s\n",
            "[CV 4/5] END C=6, gamma=0.30000000000000004, kernel=poly;, score=(train=0.990, test=0.588) total time=   0.0s\n",
            "[CV 5/5] END C=6, gamma=0.30000000000000004, kernel=poly;, score=(train=0.995, test=0.725) total time=   0.0s\n",
            "[CV 1/5] END C=6, gamma=0.5000000000000001, kernel=linear;, score=(train=0.826, test=0.765) total time=   0.0s\n",
            "[CV 2/5] END C=6, gamma=0.5000000000000001, kernel=linear;, score=(train=0.797, test=0.765) total time=   0.0s\n",
            "[CV 3/5] END C=6, gamma=0.5000000000000001, kernel=linear;, score=(train=0.758, test=0.824) total time=   0.0s\n",
            "[CV 4/5] END C=6, gamma=0.5000000000000001, kernel=linear;, score=(train=0.725, test=0.863) total time=   0.0s\n",
            "[CV 5/5] END C=6, gamma=0.5000000000000001, kernel=linear;, score=(train=0.768, test=0.863) total time=   0.0s\n",
            "[CV 1/5] END C=6, gamma=0.5000000000000001, kernel=poly;, score=(train=0.990, test=0.647) total time=   0.0s\n",
            "[CV 2/5] END C=6, gamma=0.5000000000000001, kernel=poly;, score=(train=1.000, test=0.667) total time=   0.0s\n",
            "[CV 3/5] END C=6, gamma=0.5000000000000001, kernel=poly;, score=(train=1.000, test=0.745) total time=   0.0s\n",
            "[CV 4/5] END C=6, gamma=0.5000000000000001, kernel=poly;, score=(train=0.995, test=0.549) total time=   0.0s\n",
            "[CV 5/5] END C=6, gamma=0.5000000000000001, kernel=poly;, score=(train=1.000, test=0.725) total time=   0.0s\n",
            "[CV 1/5] END C=6, gamma=0.7000000000000001, kernel=linear;, score=(train=0.826, test=0.765) total time=   0.0s\n",
            "[CV 2/5] END C=6, gamma=0.7000000000000001, kernel=linear;, score=(train=0.797, test=0.765) total time=   0.0s\n",
            "[CV 3/5] END C=6, gamma=0.7000000000000001, kernel=linear;, score=(train=0.758, test=0.824) total time=   0.0s\n",
            "[CV 4/5] END C=6, gamma=0.7000000000000001, kernel=linear;, score=(train=0.725, test=0.863) total time=   0.0s\n",
            "[CV 5/5] END C=6, gamma=0.7000000000000001, kernel=linear;, score=(train=0.768, test=0.863) total time=   0.0s\n",
            "[CV 1/5] END C=6, gamma=0.7000000000000001, kernel=poly;, score=(train=0.990, test=0.647) total time=   0.0s\n",
            "[CV 2/5] END C=6, gamma=0.7000000000000001, kernel=poly;, score=(train=1.000, test=0.667) total time=   0.0s\n",
            "[CV 3/5] END C=6, gamma=0.7000000000000001, kernel=poly;, score=(train=1.000, test=0.745) total time=   0.0s\n",
            "[CV 4/5] END C=6, gamma=0.7000000000000001, kernel=poly;, score=(train=0.995, test=0.549) total time=   0.0s\n",
            "[CV 5/5] END C=6, gamma=0.7000000000000001, kernel=poly;, score=(train=1.000, test=0.725) total time=   0.0s\n",
            "[CV 1/5] END C=6, gamma=0.9000000000000001, kernel=linear;, score=(train=0.826, test=0.765) total time=   0.0s\n",
            "[CV 2/5] END C=6, gamma=0.9000000000000001, kernel=linear;, score=(train=0.797, test=0.765) total time=   0.0s\n",
            "[CV 3/5] END C=6, gamma=0.9000000000000001, kernel=linear;, score=(train=0.758, test=0.824) total time=   0.0s\n",
            "[CV 4/5] END C=6, gamma=0.9000000000000001, kernel=linear;, score=(train=0.725, test=0.863) total time=   0.0s\n",
            "[CV 5/5] END C=6, gamma=0.9000000000000001, kernel=linear;, score=(train=0.768, test=0.863) total time=   0.0s\n",
            "[CV 1/5] END C=6, gamma=0.9000000000000001, kernel=poly;, score=(train=0.990, test=0.647) total time=   0.0s\n",
            "[CV 2/5] END C=6, gamma=0.9000000000000001, kernel=poly;, score=(train=1.000, test=0.667) total time=   0.0s\n",
            "[CV 3/5] END C=6, gamma=0.9000000000000001, kernel=poly;, score=(train=1.000, test=0.745) total time=   0.0s\n",
            "[CV 4/5] END C=6, gamma=0.9000000000000001, kernel=poly;, score=(train=0.995, test=0.549) total time=   0.0s\n",
            "[CV 5/5] END C=6, gamma=0.9000000000000001, kernel=poly;, score=(train=1.000, test=0.725) total time=   0.0s\n",
            "[CV 1/5] END C=8, gamma=0.1, kernel=linear;, score=(train=0.826, test=0.765) total time=   0.0s\n",
            "[CV 2/5] END C=8, gamma=0.1, kernel=linear;, score=(train=0.797, test=0.765) total time=   0.0s\n",
            "[CV 3/5] END C=8, gamma=0.1, kernel=linear;, score=(train=0.758, test=0.824) total time=   0.0s\n",
            "[CV 4/5] END C=8, gamma=0.1, kernel=linear;, score=(train=0.725, test=0.863) total time=   0.0s\n",
            "[CV 5/5] END C=8, gamma=0.1, kernel=linear;, score=(train=0.768, test=0.863) total time=   0.0s\n",
            "[CV 1/5] END C=8, gamma=0.1, kernel=poly;, score=(train=0.971, test=0.686) total time=   0.0s\n",
            "[CV 2/5] END C=8, gamma=0.1, kernel=poly;, score=(train=0.966, test=0.667) total time=   0.0s\n",
            "[CV 3/5] END C=8, gamma=0.1, kernel=poly;, score=(train=0.976, test=0.784) total time=   0.0s\n",
            "[CV 4/5] END C=8, gamma=0.1, kernel=poly;, score=(train=0.966, test=0.686) total time=   0.0s\n",
            "[CV 5/5] END C=8, gamma=0.1, kernel=poly;, score=(train=0.957, test=0.765) total time=   0.0s\n",
            "[CV 1/5] END C=8, gamma=0.30000000000000004, kernel=linear;, score=(train=0.826, test=0.765) total time=   0.0s\n",
            "[CV 2/5] END C=8, gamma=0.30000000000000004, kernel=linear;, score=(train=0.797, test=0.765) total time=   0.0s\n",
            "[CV 3/5] END C=8, gamma=0.30000000000000004, kernel=linear;, score=(train=0.758, test=0.824) total time=   0.0s\n",
            "[CV 4/5] END C=8, gamma=0.30000000000000004, kernel=linear;, score=(train=0.725, test=0.863) total time=   0.0s\n",
            "[CV 5/5] END C=8, gamma=0.30000000000000004, kernel=linear;, score=(train=0.768, test=0.863) total time=   0.0s\n",
            "[CV 1/5] END C=8, gamma=0.30000000000000004, kernel=poly;, score=(train=0.990, test=0.647) total time=   0.0s\n",
            "[CV 2/5] END C=8, gamma=0.30000000000000004, kernel=poly;, score=(train=1.000, test=0.667) total time=   0.0s\n",
            "[CV 3/5] END C=8, gamma=0.30000000000000004, kernel=poly;, score=(train=1.000, test=0.745) total time=   0.0s\n",
            "[CV 4/5] END C=8, gamma=0.30000000000000004, kernel=poly;, score=(train=0.995, test=0.588) total time=   0.0s\n",
            "[CV 5/5] END C=8, gamma=0.30000000000000004, kernel=poly;, score=(train=0.995, test=0.725) total time=   0.0s\n",
            "[CV 1/5] END C=8, gamma=0.5000000000000001, kernel=linear;, score=(train=0.826, test=0.765) total time=   0.0s\n",
            "[CV 2/5] END C=8, gamma=0.5000000000000001, kernel=linear;, score=(train=0.797, test=0.765) total time=   0.0s\n",
            "[CV 3/5] END C=8, gamma=0.5000000000000001, kernel=linear;, score=(train=0.758, test=0.824) total time=   0.0s\n",
            "[CV 4/5] END C=8, gamma=0.5000000000000001, kernel=linear;, score=(train=0.725, test=0.863) total time=   0.0s\n",
            "[CV 5/5] END C=8, gamma=0.5000000000000001, kernel=linear;, score=(train=0.768, test=0.863) total time=   0.0s\n",
            "[CV 1/5] END C=8, gamma=0.5000000000000001, kernel=poly;, score=(train=0.990, test=0.647) total time=   0.0s\n",
            "[CV 2/5] END C=8, gamma=0.5000000000000001, kernel=poly;, score=(train=1.000, test=0.667) total time=   0.0s\n",
            "[CV 3/5] END C=8, gamma=0.5000000000000001, kernel=poly;, score=(train=1.000, test=0.745) total time=   0.0s\n",
            "[CV 4/5] END C=8, gamma=0.5000000000000001, kernel=poly;, score=(train=0.995, test=0.549) total time=   0.0s\n",
            "[CV 5/5] END C=8, gamma=0.5000000000000001, kernel=poly;, score=(train=1.000, test=0.725) total time=   0.0s\n",
            "[CV 1/5] END C=8, gamma=0.7000000000000001, kernel=linear;, score=(train=0.826, test=0.765) total time=   0.0s\n",
            "[CV 2/5] END C=8, gamma=0.7000000000000001, kernel=linear;, score=(train=0.797, test=0.765) total time=   0.0s\n",
            "[CV 3/5] END C=8, gamma=0.7000000000000001, kernel=linear;, score=(train=0.758, test=0.824) total time=   0.0s\n",
            "[CV 4/5] END C=8, gamma=0.7000000000000001, kernel=linear;, score=(train=0.725, test=0.863) total time=   0.0s\n",
            "[CV 5/5] END C=8, gamma=0.7000000000000001, kernel=linear;, score=(train=0.768, test=0.863) total time=   0.0s\n",
            "[CV 1/5] END C=8, gamma=0.7000000000000001, kernel=poly;, score=(train=0.990, test=0.647) total time=   0.0s\n",
            "[CV 2/5] END C=8, gamma=0.7000000000000001, kernel=poly;, score=(train=1.000, test=0.667) total time=   0.0s\n",
            "[CV 3/5] END C=8, gamma=0.7000000000000001, kernel=poly;, score=(train=1.000, test=0.745) total time=   0.0s\n",
            "[CV 4/5] END C=8, gamma=0.7000000000000001, kernel=poly;, score=(train=0.995, test=0.549) total time=   0.0s\n",
            "[CV 5/5] END C=8, gamma=0.7000000000000001, kernel=poly;, score=(train=1.000, test=0.725) total time=   0.0s\n",
            "[CV 1/5] END C=8, gamma=0.9000000000000001, kernel=linear;, score=(train=0.826, test=0.765) total time=   0.0s\n",
            "[CV 2/5] END C=8, gamma=0.9000000000000001, kernel=linear;, score=(train=0.797, test=0.765) total time=   0.0s\n",
            "[CV 3/5] END C=8, gamma=0.9000000000000001, kernel=linear;, score=(train=0.758, test=0.824) total time=   0.0s\n",
            "[CV 4/5] END C=8, gamma=0.9000000000000001, kernel=linear;, score=(train=0.725, test=0.863) total time=   0.0s\n",
            "[CV 5/5] END C=8, gamma=0.9000000000000001, kernel=linear;, score=(train=0.768, test=0.863) total time=   0.0s\n",
            "[CV 1/5] END C=8, gamma=0.9000000000000001, kernel=poly;, score=(train=0.990, test=0.647) total time=   0.0s\n",
            "[CV 2/5] END C=8, gamma=0.9000000000000001, kernel=poly;, score=(train=1.000, test=0.667) total time=   0.0s\n",
            "[CV 3/5] END C=8, gamma=0.9000000000000001, kernel=poly;, score=(train=1.000, test=0.745) total time=   0.0s\n",
            "[CV 4/5] END C=8, gamma=0.9000000000000001, kernel=poly;, score=(train=0.995, test=0.549) total time=   0.0s\n",
            "[CV 5/5] END C=8, gamma=0.9000000000000001, kernel=poly;, score=(train=1.000, test=0.725) total time=   0.0s\n",
            "----------\n",
            "iter: 1\n",
            "n_candidates: 14\n",
            "n_resources: 777\n",
            "Fitting 5 folds for each of 14 candidates, totalling 70 fits\n",
            "[CV 1/5] END C=8, gamma=0.30000000000000004, kernel=linear;, score=(train=0.768, test=0.723) total time=   0.0s\n",
            "[CV 2/5] END C=8, gamma=0.30000000000000004, kernel=linear;, score=(train=0.775, test=0.839) total time=   0.0s\n",
            "[CV 3/5] END C=8, gamma=0.30000000000000004, kernel=linear;, score=(train=0.802, test=0.761) total time=   0.0s\n",
            "[CV 4/5] END C=8, gamma=0.30000000000000004, kernel=linear;, score=(train=0.778, test=0.781) total time=   0.0s\n",
            "[CV 5/5] END C=8, gamma=0.30000000000000004, kernel=linear;, score=(train=0.791, test=0.761) total time=   0.0s\n",
            "[CV 1/5] END C=6, gamma=0.5000000000000001, kernel=linear;, score=(train=0.768, test=0.723) total time=   0.1s\n",
            "[CV 2/5] END C=6, gamma=0.5000000000000001, kernel=linear;, score=(train=0.775, test=0.839) total time=   0.0s\n",
            "[CV 3/5] END C=6, gamma=0.5000000000000001, kernel=linear;, score=(train=0.802, test=0.761) total time=   0.0s\n",
            "[CV 4/5] END C=6, gamma=0.5000000000000001, kernel=linear;, score=(train=0.778, test=0.781) total time=   0.0s\n",
            "[CV 5/5] END C=6, gamma=0.5000000000000001, kernel=linear;, score=(train=0.791, test=0.761) total time=   0.0s\n",
            "[CV 1/5] END C=2, gamma=0.7000000000000001, kernel=linear;, score=(train=0.768, test=0.723) total time=   0.0s\n",
            "[CV 2/5] END C=2, gamma=0.7000000000000001, kernel=linear;, score=(train=0.775, test=0.839) total time=   0.0s\n",
            "[CV 3/5] END C=2, gamma=0.7000000000000001, kernel=linear;, score=(train=0.802, test=0.761) total time=   0.0s\n",
            "[CV 4/5] END C=2, gamma=0.7000000000000001, kernel=linear;, score=(train=0.778, test=0.781) total time=   0.0s\n",
            "[CV 5/5] END C=2, gamma=0.7000000000000001, kernel=linear;, score=(train=0.791, test=0.761) total time=   0.0s\n",
            "[CV 1/5] END C=6, gamma=0.30000000000000004, kernel=linear;, score=(train=0.768, test=0.723) total time=   0.0s\n",
            "[CV 2/5] END C=6, gamma=0.30000000000000004, kernel=linear;, score=(train=0.775, test=0.839) total time=   0.0s\n",
            "[CV 3/5] END C=6, gamma=0.30000000000000004, kernel=linear;, score=(train=0.802, test=0.761) total time=   0.0s\n",
            "[CV 4/5] END C=6, gamma=0.30000000000000004, kernel=linear;, score=(train=0.778, test=0.781) total time=   0.0s\n",
            "[CV 5/5] END C=6, gamma=0.30000000000000004, kernel=linear;, score=(train=0.791, test=0.761) total time=   0.0s\n",
            "[CV 1/5] END C=6, gamma=0.1, kernel=linear;, score=(train=0.768, test=0.723) total time=   0.0s\n",
            "[CV 2/5] END C=6, gamma=0.1, kernel=linear;, score=(train=0.775, test=0.839) total time=   0.0s\n",
            "[CV 3/5] END C=6, gamma=0.1, kernel=linear;, score=(train=0.802, test=0.761) total time=   0.0s\n",
            "[CV 4/5] END C=6, gamma=0.1, kernel=linear;, score=(train=0.778, test=0.781) total time=   0.0s\n",
            "[CV 5/5] END C=6, gamma=0.1, kernel=linear;, score=(train=0.791, test=0.761) total time=   0.0s\n",
            "[CV 1/5] END C=8, gamma=0.9000000000000001, kernel=linear;, score=(train=0.768, test=0.723) total time=   0.0s\n",
            "[CV 2/5] END C=8, gamma=0.9000000000000001, kernel=linear;, score=(train=0.775, test=0.839) total time=   0.0s\n",
            "[CV 3/5] END C=8, gamma=0.9000000000000001, kernel=linear;, score=(train=0.802, test=0.761) total time=   0.0s\n",
            "[CV 4/5] END C=8, gamma=0.9000000000000001, kernel=linear;, score=(train=0.778, test=0.781) total time=   0.0s\n",
            "[CV 5/5] END C=8, gamma=0.9000000000000001, kernel=linear;, score=(train=0.791, test=0.761) total time=   0.0s\n",
            "[CV 1/5] END C=4, gamma=0.9000000000000001, kernel=linear;, score=(train=0.768, test=0.723) total time=   0.0s\n",
            "[CV 2/5] END C=4, gamma=0.9000000000000001, kernel=linear;, score=(train=0.775, test=0.839) total time=   0.0s\n",
            "[CV 3/5] END C=4, gamma=0.9000000000000001, kernel=linear;, score=(train=0.802, test=0.761) total time=   0.0s\n",
            "[CV 4/5] END C=4, gamma=0.9000000000000001, kernel=linear;, score=(train=0.778, test=0.781) total time=   0.0s\n",
            "[CV 5/5] END C=4, gamma=0.9000000000000001, kernel=linear;, score=(train=0.791, test=0.761) total time=   0.0s\n",
            "[CV 1/5] END C=2, gamma=0.9000000000000001, kernel=linear;, score=(train=0.768, test=0.723) total time=   0.0s\n",
            "[CV 2/5] END C=2, gamma=0.9000000000000001, kernel=linear;, score=(train=0.775, test=0.839) total time=   0.0s\n",
            "[CV 3/5] END C=2, gamma=0.9000000000000001, kernel=linear;, score=(train=0.802, test=0.761) total time=   0.0s\n",
            "[CV 4/5] END C=2, gamma=0.9000000000000001, kernel=linear;, score=(train=0.778, test=0.781) total time=   0.0s\n",
            "[CV 5/5] END C=2, gamma=0.9000000000000001, kernel=linear;, score=(train=0.791, test=0.761) total time=   0.0s\n",
            "[CV 1/5] END C=4, gamma=0.7000000000000001, kernel=linear;, score=(train=0.768, test=0.723) total time=   0.0s\n",
            "[CV 2/5] END C=4, gamma=0.7000000000000001, kernel=linear;, score=(train=0.775, test=0.839) total time=   0.0s\n",
            "[CV 3/5] END C=4, gamma=0.7000000000000001, kernel=linear;, score=(train=0.802, test=0.761) total time=   0.0s\n",
            "[CV 4/5] END C=4, gamma=0.7000000000000001, kernel=linear;, score=(train=0.778, test=0.781) total time=   0.0s\n",
            "[CV 5/5] END C=4, gamma=0.7000000000000001, kernel=linear;, score=(train=0.791, test=0.761) total time=   0.0s\n",
            "[CV 1/5] END C=4, gamma=0.5000000000000001, kernel=linear;, score=(train=0.768, test=0.723) total time=   0.0s\n",
            "[CV 2/5] END C=4, gamma=0.5000000000000001, kernel=linear;, score=(train=0.775, test=0.839) total time=   0.0s\n",
            "[CV 3/5] END C=4, gamma=0.5000000000000001, kernel=linear;, score=(train=0.802, test=0.761) total time=   0.0s\n",
            "[CV 4/5] END C=4, gamma=0.5000000000000001, kernel=linear;, score=(train=0.778, test=0.781) total time=   0.0s\n",
            "[CV 5/5] END C=4, gamma=0.5000000000000001, kernel=linear;, score=(train=0.791, test=0.761) total time=   0.0s\n",
            "[CV 1/5] END C=4, gamma=0.30000000000000004, kernel=linear;, score=(train=0.768, test=0.723) total time=   0.0s\n",
            "[CV 2/5] END C=4, gamma=0.30000000000000004, kernel=linear;, score=(train=0.775, test=0.839) total time=   0.0s\n",
            "[CV 3/5] END C=4, gamma=0.30000000000000004, kernel=linear;, score=(train=0.802, test=0.761) total time=   0.0s\n",
            "[CV 4/5] END C=4, gamma=0.30000000000000004, kernel=linear;, score=(train=0.778, test=0.781) total time=   0.0s\n",
            "[CV 5/5] END C=4, gamma=0.30000000000000004, kernel=linear;, score=(train=0.791, test=0.761) total time=   0.0s\n",
            "[CV 1/5] END C=6, gamma=0.7000000000000001, kernel=linear;, score=(train=0.768, test=0.723) total time=   0.0s\n",
            "[CV 2/5] END C=6, gamma=0.7000000000000001, kernel=linear;, score=(train=0.775, test=0.839) total time=   0.0s\n",
            "[CV 3/5] END C=6, gamma=0.7000000000000001, kernel=linear;, score=(train=0.802, test=0.761) total time=   0.0s\n",
            "[CV 4/5] END C=6, gamma=0.7000000000000001, kernel=linear;, score=(train=0.778, test=0.781) total time=   0.0s\n",
            "[CV 5/5] END C=6, gamma=0.7000000000000001, kernel=linear;, score=(train=0.791, test=0.761) total time=   0.0s\n",
            "[CV 1/5] END C=2, gamma=0.1, kernel=linear;, score=(train=0.768, test=0.723) total time=   0.0s\n",
            "[CV 2/5] END C=2, gamma=0.1, kernel=linear;, score=(train=0.775, test=0.839) total time=   0.0s\n",
            "[CV 3/5] END C=2, gamma=0.1, kernel=linear;, score=(train=0.802, test=0.761) total time=   0.0s\n",
            "[CV 4/5] END C=2, gamma=0.1, kernel=linear;, score=(train=0.778, test=0.781) total time=   0.0s\n",
            "[CV 5/5] END C=2, gamma=0.1, kernel=linear;, score=(train=0.791, test=0.761) total time=   0.0s\n",
            "[CV 1/5] END C=2, gamma=0.1, kernel=poly;, score=(train=0.779, test=0.710) total time=   0.0s\n",
            "[CV 2/5] END C=2, gamma=0.1, kernel=poly;, score=(train=0.781, test=0.832) total time=   0.0s\n",
            "[CV 3/5] END C=2, gamma=0.1, kernel=poly;, score=(train=0.805, test=0.761) total time=   0.0s\n",
            "[CV 4/5] END C=2, gamma=0.1, kernel=poly;, score=(train=0.787, test=0.781) total time=   0.0s\n",
            "[CV 5/5] END C=2, gamma=0.1, kernel=poly;, score=(train=0.802, test=0.761) total time=   0.0s\n",
            "----------\n",
            "iter: 2\n",
            "n_candidates: 5\n",
            "n_resources: 2331\n",
            "Fitting 5 folds for each of 5 candidates, totalling 25 fits\n",
            "[CV 1/5] END C=4, gamma=0.7000000000000001, kernel=linear;, score=(train=0.770, test=0.781) total time=   0.3s\n",
            "[CV 2/5] END C=4, gamma=0.7000000000000001, kernel=linear;, score=(train=0.778, test=0.764) total time=   0.3s\n",
            "[CV 3/5] END C=4, gamma=0.7000000000000001, kernel=linear;, score=(train=0.777, test=0.775) total time=   0.3s\n",
            "[CV 4/5] END C=4, gamma=0.7000000000000001, kernel=linear;, score=(train=0.774, test=0.775) total time=   0.3s\n",
            "[CV 5/5] END C=4, gamma=0.7000000000000001, kernel=linear;, score=(train=0.774, test=0.787) total time=   0.3s\n",
            "[CV 1/5] END C=4, gamma=0.5000000000000001, kernel=linear;, score=(train=0.770, test=0.781) total time=   0.3s\n",
            "[CV 2/5] END C=4, gamma=0.5000000000000001, kernel=linear;, score=(train=0.778, test=0.764) total time=   0.3s\n",
            "[CV 3/5] END C=4, gamma=0.5000000000000001, kernel=linear;, score=(train=0.777, test=0.775) total time=   0.3s\n",
            "[CV 4/5] END C=4, gamma=0.5000000000000001, kernel=linear;, score=(train=0.774, test=0.775) total time=   0.3s\n",
            "[CV 5/5] END C=4, gamma=0.5000000000000001, kernel=linear;, score=(train=0.774, test=0.787) total time=   0.3s\n",
            "[CV 1/5] END C=4, gamma=0.30000000000000004, kernel=linear;, score=(train=0.770, test=0.781) total time=   0.3s\n",
            "[CV 2/5] END C=4, gamma=0.30000000000000004, kernel=linear;, score=(train=0.778, test=0.764) total time=   0.3s\n",
            "[CV 3/5] END C=4, gamma=0.30000000000000004, kernel=linear;, score=(train=0.777, test=0.775) total time=   0.3s\n",
            "[CV 4/5] END C=4, gamma=0.30000000000000004, kernel=linear;, score=(train=0.774, test=0.775) total time=   0.3s\n",
            "[CV 5/5] END C=4, gamma=0.30000000000000004, kernel=linear;, score=(train=0.774, test=0.787) total time=   0.3s\n",
            "[CV 1/5] END C=6, gamma=0.7000000000000001, kernel=linear;, score=(train=0.770, test=0.781) total time=   0.4s\n",
            "[CV 2/5] END C=6, gamma=0.7000000000000001, kernel=linear;, score=(train=0.778, test=0.764) total time=   0.3s\n",
            "[CV 3/5] END C=6, gamma=0.7000000000000001, kernel=linear;, score=(train=0.777, test=0.775) total time=   0.3s\n",
            "[CV 4/5] END C=6, gamma=0.7000000000000001, kernel=linear;, score=(train=0.774, test=0.775) total time=   0.3s\n",
            "[CV 5/5] END C=6, gamma=0.7000000000000001, kernel=linear;, score=(train=0.774, test=0.787) total time=   0.3s\n",
            "[CV 1/5] END C=2, gamma=0.1, kernel=linear;, score=(train=0.770, test=0.781) total time=   0.2s\n",
            "[CV 2/5] END C=2, gamma=0.1, kernel=linear;, score=(train=0.778, test=0.764) total time=   0.2s\n",
            "[CV 3/5] END C=2, gamma=0.1, kernel=linear;, score=(train=0.777, test=0.775) total time=   0.2s\n",
            "[CV 4/5] END C=2, gamma=0.1, kernel=linear;, score=(train=0.774, test=0.775) total time=   0.2s\n",
            "[CV 5/5] END C=2, gamma=0.1, kernel=linear;, score=(train=0.774, test=0.787) total time=   0.2s\n",
            "----------\n",
            "iter: 3\n",
            "n_candidates: 2\n",
            "n_resources: 6993\n",
            "Fitting 5 folds for each of 2 candidates, totalling 10 fits\n",
            "[CV 1/5] END C=6, gamma=0.7000000000000001, kernel=linear;, score=(train=0.775, test=0.775) total time=   2.1s\n",
            "[CV 2/5] END C=6, gamma=0.7000000000000001, kernel=linear;, score=(train=0.775, test=0.775) total time=   2.2s\n",
            "[CV 3/5] END C=6, gamma=0.7000000000000001, kernel=linear;, score=(train=0.776, test=0.775) total time=   2.6s\n",
            "[CV 4/5] END C=6, gamma=0.7000000000000001, kernel=linear;, score=(train=0.775, test=0.775) total time=   2.1s\n",
            "[CV 5/5] END C=6, gamma=0.7000000000000001, kernel=linear;, score=(train=0.775, test=0.775) total time=   2.2s\n",
            "[CV 1/5] END C=2, gamma=0.1, kernel=linear;, score=(train=0.775, test=0.775) total time=   2.0s\n",
            "[CV 2/5] END C=2, gamma=0.1, kernel=linear;, score=(train=0.775, test=0.775) total time=   2.1s\n",
            "[CV 3/5] END C=2, gamma=0.1, kernel=linear;, score=(train=0.776, test=0.775) total time=   1.7s\n",
            "[CV 4/5] END C=2, gamma=0.1, kernel=linear;, score=(train=0.775, test=0.775) total time=   1.7s\n",
            "[CV 5/5] END C=2, gamma=0.1, kernel=linear;, score=(train=0.775, test=0.775) total time=   1.7s\n"
          ]
        },
        {
          "output_type": "execute_result",
          "data": {
            "text/plain": [
              "HalvingGridSearchCV(estimator=SVC(),\n",
              "                    param_grid={'C': array([2, 4, 6, 8]),\n",
              "                                'gamma': array([0.1, 0.3, 0.5, 0.7, 0.9]),\n",
              "                                'kernel': ['linear', 'poly']},\n",
              "                    verbose=3)"
            ],
            "text/html": [
              "<style>#sk-container-id-1 {color: black;background-color: white;}#sk-container-id-1 pre{padding: 0;}#sk-container-id-1 div.sk-toggleable {background-color: white;}#sk-container-id-1 label.sk-toggleable__label {cursor: pointer;display: block;width: 100%;margin-bottom: 0;padding: 0.3em;box-sizing: border-box;text-align: center;}#sk-container-id-1 label.sk-toggleable__label-arrow:before {content: \"▸\";float: left;margin-right: 0.25em;color: #696969;}#sk-container-id-1 label.sk-toggleable__label-arrow:hover:before {color: black;}#sk-container-id-1 div.sk-estimator:hover label.sk-toggleable__label-arrow:before {color: black;}#sk-container-id-1 div.sk-toggleable__content {max-height: 0;max-width: 0;overflow: hidden;text-align: left;background-color: #f0f8ff;}#sk-container-id-1 div.sk-toggleable__content pre {margin: 0.2em;color: black;border-radius: 0.25em;background-color: #f0f8ff;}#sk-container-id-1 input.sk-toggleable__control:checked~div.sk-toggleable__content {max-height: 200px;max-width: 100%;overflow: auto;}#sk-container-id-1 input.sk-toggleable__control:checked~label.sk-toggleable__label-arrow:before {content: \"▾\";}#sk-container-id-1 div.sk-estimator input.sk-toggleable__control:checked~label.sk-toggleable__label {background-color: #d4ebff;}#sk-container-id-1 div.sk-label input.sk-toggleable__control:checked~label.sk-toggleable__label {background-color: #d4ebff;}#sk-container-id-1 input.sk-hidden--visually {border: 0;clip: rect(1px 1px 1px 1px);clip: rect(1px, 1px, 1px, 1px);height: 1px;margin: -1px;overflow: hidden;padding: 0;position: absolute;width: 1px;}#sk-container-id-1 div.sk-estimator {font-family: monospace;background-color: #f0f8ff;border: 1px dotted black;border-radius: 0.25em;box-sizing: border-box;margin-bottom: 0.5em;}#sk-container-id-1 div.sk-estimator:hover {background-color: #d4ebff;}#sk-container-id-1 div.sk-parallel-item::after {content: \"\";width: 100%;border-bottom: 1px solid gray;flex-grow: 1;}#sk-container-id-1 div.sk-label:hover label.sk-toggleable__label {background-color: #d4ebff;}#sk-container-id-1 div.sk-serial::before {content: \"\";position: absolute;border-left: 1px solid gray;box-sizing: border-box;top: 0;bottom: 0;left: 50%;z-index: 0;}#sk-container-id-1 div.sk-serial {display: flex;flex-direction: column;align-items: center;background-color: white;padding-right: 0.2em;padding-left: 0.2em;position: relative;}#sk-container-id-1 div.sk-item {position: relative;z-index: 1;}#sk-container-id-1 div.sk-parallel {display: flex;align-items: stretch;justify-content: center;background-color: white;position: relative;}#sk-container-id-1 div.sk-item::before, #sk-container-id-1 div.sk-parallel-item::before {content: \"\";position: absolute;border-left: 1px solid gray;box-sizing: border-box;top: 0;bottom: 0;left: 50%;z-index: -1;}#sk-container-id-1 div.sk-parallel-item {display: flex;flex-direction: column;z-index: 1;position: relative;background-color: white;}#sk-container-id-1 div.sk-parallel-item:first-child::after {align-self: flex-end;width: 50%;}#sk-container-id-1 div.sk-parallel-item:last-child::after {align-self: flex-start;width: 50%;}#sk-container-id-1 div.sk-parallel-item:only-child::after {width: 0;}#sk-container-id-1 div.sk-dashed-wrapped {border: 1px dashed gray;margin: 0 0.4em 0.5em 0.4em;box-sizing: border-box;padding-bottom: 0.4em;background-color: white;}#sk-container-id-1 div.sk-label label {font-family: monospace;font-weight: bold;display: inline-block;line-height: 1.2em;}#sk-container-id-1 div.sk-label-container {text-align: center;}#sk-container-id-1 div.sk-container {/* jupyter's `normalize.less` sets `[hidden] { display: none; }` but bootstrap.min.css set `[hidden] { display: none !important; }` so we also need the `!important` here to be able to override the default hidden behavior on the sphinx rendered scikit-learn.org. See: https://github.com/scikit-learn/scikit-learn/issues/21755 */display: inline-block !important;position: relative;}#sk-container-id-1 div.sk-text-repr-fallback {display: none;}</style><div id=\"sk-container-id-1\" class=\"sk-top-container\"><div class=\"sk-text-repr-fallback\"><pre>HalvingGridSearchCV(estimator=SVC(),\n",
              "                    param_grid={&#x27;C&#x27;: array([2, 4, 6, 8]),\n",
              "                                &#x27;gamma&#x27;: array([0.1, 0.3, 0.5, 0.7, 0.9]),\n",
              "                                &#x27;kernel&#x27;: [&#x27;linear&#x27;, &#x27;poly&#x27;]},\n",
              "                    verbose=3)</pre><b>In a Jupyter environment, please rerun this cell to show the HTML representation or trust the notebook. <br />On GitHub, the HTML representation is unable to render, please try loading this page with nbviewer.org.</b></div><div class=\"sk-container\" hidden><div class=\"sk-item sk-dashed-wrapped\"><div class=\"sk-label-container\"><div class=\"sk-label sk-toggleable\"><input class=\"sk-toggleable__control sk-hidden--visually\" id=\"sk-estimator-id-1\" type=\"checkbox\" ><label for=\"sk-estimator-id-1\" class=\"sk-toggleable__label sk-toggleable__label-arrow\">HalvingGridSearchCV</label><div class=\"sk-toggleable__content\"><pre>HalvingGridSearchCV(estimator=SVC(),\n",
              "                    param_grid={&#x27;C&#x27;: array([2, 4, 6, 8]),\n",
              "                                &#x27;gamma&#x27;: array([0.1, 0.3, 0.5, 0.7, 0.9]),\n",
              "                                &#x27;kernel&#x27;: [&#x27;linear&#x27;, &#x27;poly&#x27;]},\n",
              "                    verbose=3)</pre></div></div></div><div class=\"sk-parallel\"><div class=\"sk-parallel-item\"><div class=\"sk-item\"><div class=\"sk-label-container\"><div class=\"sk-label sk-toggleable\"><input class=\"sk-toggleable__control sk-hidden--visually\" id=\"sk-estimator-id-2\" type=\"checkbox\" ><label for=\"sk-estimator-id-2\" class=\"sk-toggleable__label sk-toggleable__label-arrow\">estimator: SVC</label><div class=\"sk-toggleable__content\"><pre>SVC()</pre></div></div></div><div class=\"sk-serial\"><div class=\"sk-item\"><div class=\"sk-estimator sk-toggleable\"><input class=\"sk-toggleable__control sk-hidden--visually\" id=\"sk-estimator-id-3\" type=\"checkbox\" ><label for=\"sk-estimator-id-3\" class=\"sk-toggleable__label sk-toggleable__label-arrow\">SVC</label><div class=\"sk-toggleable__content\"><pre>SVC()</pre></div></div></div></div></div></div></div></div></div></div>"
            ]
          },
          "metadata": {},
          "execution_count": 36
        }
      ]
    },
    {
      "cell_type": "code",
      "source": [
        "grid.best_params_"
      ],
      "metadata": {
        "colab": {
          "base_uri": "https://localhost:8080/"
        },
        "id": "2qSAUhAyPYrV",
        "outputId": "769b9902-66f9-4f20-d1b9-5ae97393c66a"
      },
      "execution_count": null,
      "outputs": [
        {
          "output_type": "execute_result",
          "data": {
            "text/plain": [
              "{'C': 6, 'gamma': 0.7000000000000001, 'kernel': 'linear'}"
            ]
          },
          "metadata": {},
          "execution_count": 37
        }
      ]
    },
    {
      "cell_type": "markdown",
      "source": [
        "### Predicting the restults"
      ],
      "metadata": {
        "id": "CeTrMCKEPzzJ"
      }
    },
    {
      "cell_type": "code",
      "source": [
        "svc_predictions=grid.predict(x_test)"
      ],
      "metadata": {
        "id": "H4a-VKBAP4AH"
      },
      "execution_count": null,
      "outputs": []
    },
    {
      "cell_type": "markdown",
      "source": [
        "### Confusion matrix for SVM"
      ],
      "metadata": {
        "id": "u6atcu5KQm5m"
      }
    },
    {
      "cell_type": "code",
      "source": [
        "conf_svm=confusion_matrix(y_test,svc_predictions)\n",
        "disp=ConfusionMatrixDisplay(conf_svm)\n",
        "disp.plot()"
      ],
      "metadata": {
        "colab": {
          "base_uri": "https://localhost:8080/",
          "height": 467
        },
        "id": "bcsGSEhTQo1f",
        "outputId": "957c9c98-bb01-4a8e-d56d-bce8ee4c7d5c"
      },
      "execution_count": null,
      "outputs": [
        {
          "output_type": "execute_result",
          "data": {
            "text/plain": [
              "<sklearn.metrics._plot.confusion_matrix.ConfusionMatrixDisplay at 0x7f8897d5a980>"
            ]
          },
          "metadata": {},
          "execution_count": 39
        },
        {
          "output_type": "display_data",
          "data": {
            "text/plain": [
              "<Figure size 640x480 with 2 Axes>"
            ],
            "image/png": "[encoded data removed]"
          },
          "metadata": {}
        }
      ]
    },
    {
      "cell_type": "code",
      "source": [],
      "metadata": {
        "id": "6q8HD73Xhx81"
      },
      "execution_count": null,
      "outputs": []
    },
    {
      "cell_type": "markdown",
      "source": [
        "## SMOTE"
      ],
      "metadata": {
        "id": "TGqu0TWms4Bx"
      }
    },
    {
      "cell_type": "code",
      "source": [
        "from imblearn.over_sampling import SMOTE\n",
        "\n",
        "smote = SMOTE()"
      ],
      "metadata": {
        "id": "p5-8p6_Zs5Rb"
      },
      "execution_count": null,
      "outputs": []
    },
    {
      "cell_type": "code",
      "source": [
        "x_smt,y_smt=smote.fit_resample(x_train,y_train)"
      ],
      "metadata": {
        "id": "tYCWSqh-s9_O"
      },
      "execution_count": null,
      "outputs": []
    },
    {
      "cell_type": "code",
      "source": [
        "x_smt.shape"
      ],
      "metadata": {
        "colab": {
          "base_uri": "https://localhost:8080/"
        },
        "id": "Z-GKR2UttNgY",
        "outputId": "928821d4-0527-4c99-ab6f-b162aa6fd367"
      },
      "execution_count": null,
      "outputs": [
        {
          "output_type": "execute_result",
          "data": {
            "text/plain": [
              "(10860, 33)"
            ]
          },
          "metadata": {},
          "execution_count": 42
        }
      ]
    },
    {
      "cell_type": "code",
      "source": [
        "y_smt.shape"
      ],
      "metadata": {
        "colab": {
          "base_uri": "https://localhost:8080/"
        },
        "id": "6uycfFantSTx",
        "outputId": "edb7325f-4d3d-4ba4-ce32-a1356b47cd4d"
      },
      "execution_count": null,
      "outputs": [
        {
          "output_type": "execute_result",
          "data": {
            "text/plain": [
              "(10860,)"
            ]
          },
          "metadata": {},
          "execution_count": 43
        }
      ]
    },
    {
      "cell_type": "code",
      "source": [
        "y_smt.value_counts()"
      ],
      "metadata": {
        "colab": {
          "base_uri": "https://localhost:8080/"
        },
        "id": "nz6LvSYEQ6r_",
        "outputId": "d0c0a8ad-59c4-41eb-de39-a76f69762e79"
      },
      "execution_count": null,
      "outputs": [
        {
          "output_type": "execute_result",
          "data": {
            "text/plain": [
              "0    5430\n",
              "1    5430\n",
              "Name: Policy, dtype: int64"
            ]
          },
          "metadata": {},
          "execution_count": 44
        }
      ]
    },
    {
      "cell_type": "markdown",
      "source": [
        "## smote SVM"
      ],
      "metadata": {
        "id": "xcmPlzimccs9"
      }
    },
    {
      "cell_type": "code",
      "source": [
        "grid_smote_svm = HalvingGridSearchCV(svc, param_grid, verbose = 3)"
      ],
      "metadata": {
        "id": "6QORcf4wbG-n"
      },
      "execution_count": null,
      "outputs": []
    },
    {
      "cell_type": "code",
      "source": [
        "grid_smote_svm.fit(x_smt,y_smt)"
      ],
      "metadata": {
        "colab": {
          "base_uri": "https://localhost:8080/",
          "height": 1000
        },
        "id": "FmlfiYpebMjU",
        "outputId": "0a261b13-f753-475c-f230-88e47539fcf5"
      },
      "execution_count": null,
      "outputs": [
        {
          "output_type": "stream",
          "name": "stdout",
          "text": [
            "n_iterations: 4\n",
            "n_required_iterations: 4\n",
            "n_possible_iterations: 4\n",
            "min_resources_: 402\n",
            "max_resources_: 10860\n",
            "aggressive_elimination: False\n",
            "factor: 3\n",
            "----------\n",
            "iter: 0\n",
            "n_candidates: 40\n",
            "n_resources: 402\n",
            "Fitting 5 folds for each of 40 candidates, totalling 200 fits\n",
            "[CV 1/5] END C=2, gamma=0.1, kernel=linear;, score=(train=0.623, test=0.512) total time=   0.0s\n",
            "[CV 2/5] END C=2, gamma=0.1, kernel=linear;, score=(train=0.648, test=0.537) total time=   0.0s\n",
            "[CV 3/5] END C=2, gamma=0.1, kernel=linear;, score=(train=0.620, test=0.588) total time=   0.0s\n",
            "[CV 4/5] END C=2, gamma=0.1, kernel=linear;, score=(train=0.598, test=0.500) total time=   0.0s\n",
            "[CV 5/5] END C=2, gamma=0.1, kernel=linear;, score=(train=0.648, test=0.588) total time=   0.0s\n",
            "[CV 1/5] END C=2, gamma=0.1, kernel=poly;, score=(train=0.826, test=0.475) total time=   0.0s\n",
            "[CV 2/5] END C=2, gamma=0.1, kernel=poly;, score=(train=0.826, test=0.525) total time=   0.0s\n",
            "[CV 3/5] END C=2, gamma=0.1, kernel=poly;, score=(train=0.807, test=0.550) total time=   0.0s\n",
            "[CV 4/5] END C=2, gamma=0.1, kernel=poly;, score=(train=0.857, test=0.487) total time=   0.0s\n",
            "[CV 5/5] END C=2, gamma=0.1, kernel=poly;, score=(train=0.819, test=0.575) total time=   0.0s\n",
            "[CV 1/5] END C=2, gamma=0.30000000000000004, kernel=linear;, score=(train=0.623, test=0.512) total time=   0.0s\n",
            "[CV 2/5] END C=2, gamma=0.30000000000000004, kernel=linear;, score=(train=0.648, test=0.537) total time=   0.0s\n",
            "[CV 3/5] END C=2, gamma=0.30000000000000004, kernel=linear;, score=(train=0.620, test=0.588) total time=   0.0s\n",
            "[CV 4/5] END C=2, gamma=0.30000000000000004, kernel=linear;, score=(train=0.598, test=0.500) total time=   0.0s\n",
            "[CV 5/5] END C=2, gamma=0.30000000000000004, kernel=linear;, score=(train=0.648, test=0.588) total time=   0.0s\n",
            "[CV 1/5] END C=2, gamma=0.30000000000000004, kernel=poly;, score=(train=0.981, test=0.525) total time=   0.0s\n",
            "[CV 2/5] END C=2, gamma=0.30000000000000004, kernel=poly;, score=(train=0.975, test=0.525) total time=   0.0s\n",
            "[CV 3/5] END C=2, gamma=0.30000000000000004, kernel=poly;, score=(train=0.978, test=0.512) total time=   0.0s\n",
            "[CV 4/5] END C=2, gamma=0.30000000000000004, kernel=poly;, score=(train=0.988, test=0.512) total time=   0.0s\n",
            "[CV 5/5] END C=2, gamma=0.30000000000000004, kernel=poly;, score=(train=0.969, test=0.588) total time=   0.0s\n",
            "[CV 1/5] END C=2, gamma=0.5000000000000001, kernel=linear;, score=(train=0.623, test=0.512) total time=   0.0s\n",
            "[CV 2/5] END C=2, gamma=0.5000000000000001, kernel=linear;, score=(train=0.648, test=0.537) total time=   0.0s\n",
            "[CV 3/5] END C=2, gamma=0.5000000000000001, kernel=linear;, score=(train=0.620, test=0.588) total time=   0.0s\n",
            "[CV 4/5] END C=2, gamma=0.5000000000000001, kernel=linear;, score=(train=0.598, test=0.500) total time=   0.0s\n",
            "[CV 5/5] END C=2, gamma=0.5000000000000001, kernel=linear;, score=(train=0.648, test=0.588) total time=   0.0s\n",
            "[CV 1/5] END C=2, gamma=0.5000000000000001, kernel=poly;, score=(train=0.984, test=0.600) total time=   0.0s\n",
            "[CV 2/5] END C=2, gamma=0.5000000000000001, kernel=poly;, score=(train=0.981, test=0.537) total time=   0.0s\n",
            "[CV 3/5] END C=2, gamma=0.5000000000000001, kernel=poly;, score=(train=0.981, test=0.500) total time=   0.0s\n",
            "[CV 4/5] END C=2, gamma=0.5000000000000001, kernel=poly;, score=(train=0.991, test=0.525) total time=   0.0s\n",
            "[CV 5/5] END C=2, gamma=0.5000000000000001, kernel=poly;, score=(train=0.981, test=0.562) total time=   0.0s\n",
            "[CV 1/5] END C=2, gamma=0.7000000000000001, kernel=linear;, score=(train=0.623, test=0.512) total time=   0.0s\n",
            "[CV 2/5] END C=2, gamma=0.7000000000000001, kernel=linear;, score=(train=0.648, test=0.537) total time=   0.0s\n",
            "[CV 3/5] END C=2, gamma=0.7000000000000001, kernel=linear;, score=(train=0.620, test=0.588) total time=   0.0s\n",
            "[CV 4/5] END C=2, gamma=0.7000000000000001, kernel=linear;, score=(train=0.598, test=0.500) total time=   0.0s\n",
            "[CV 5/5] END C=2, gamma=0.7000000000000001, kernel=linear;, score=(train=0.648, test=0.588) total time=   0.0s\n",
            "[CV 1/5] END C=2, gamma=0.7000000000000001, kernel=poly;, score=(train=0.994, test=0.550) total time=   0.0s\n",
            "[CV 2/5] END C=2, gamma=0.7000000000000001, kernel=poly;, score=(train=0.994, test=0.550) total time=   0.0s\n",
            "[CV 3/5] END C=2, gamma=0.7000000000000001, kernel=poly;, score=(train=0.984, test=0.487) total time=   0.0s\n",
            "[CV 4/5] END C=2, gamma=0.7000000000000001, kernel=poly;, score=(train=0.991, test=0.487) total time=   0.0s\n",
            "[CV 5/5] END C=2, gamma=0.7000000000000001, kernel=poly;, score=(train=0.988, test=0.588) total time=   0.0s\n",
            "[CV 1/5] END C=2, gamma=0.9000000000000001, kernel=linear;, score=(train=0.623, test=0.512) total time=   0.0s\n",
            "[CV 2/5] END C=2, gamma=0.9000000000000001, kernel=linear;, score=(train=0.648, test=0.537) total time=   0.0s\n",
            "[CV 3/5] END C=2, gamma=0.9000000000000001, kernel=linear;, score=(train=0.620, test=0.588) total time=   0.0s\n",
            "[CV 4/5] END C=2, gamma=0.9000000000000001, kernel=linear;, score=(train=0.598, test=0.500) total time=   0.0s\n",
            "[CV 5/5] END C=2, gamma=0.9000000000000001, kernel=linear;, score=(train=0.648, test=0.588) total time=   0.0s\n",
            "[CV 1/5] END C=2, gamma=0.9000000000000001, kernel=poly;, score=(train=0.994, test=0.500) total time=   0.0s\n",
            "[CV 2/5] END C=2, gamma=0.9000000000000001, kernel=poly;, score=(train=0.994, test=0.562) total time=   0.0s\n",
            "[CV 3/5] END C=2, gamma=0.9000000000000001, kernel=poly;, score=(train=0.988, test=0.475) total time=   0.0s\n",
            "[CV 4/5] END C=2, gamma=0.9000000000000001, kernel=poly;, score=(train=0.991, test=0.525) total time=   0.0s\n",
            "[CV 5/5] END C=2, gamma=0.9000000000000001, kernel=poly;, score=(train=0.988, test=0.562) total time=   0.0s\n",
            "[CV 1/5] END C=4, gamma=0.1, kernel=linear;, score=(train=0.623, test=0.512) total time=   0.0s\n",
            "[CV 2/5] END C=4, gamma=0.1, kernel=linear;, score=(train=0.654, test=0.525) total time=   0.0s\n",
            "[CV 3/5] END C=4, gamma=0.1, kernel=linear;, score=(train=0.626, test=0.588) total time=   0.0s\n",
            "[CV 4/5] END C=4, gamma=0.1, kernel=linear;, score=(train=0.598, test=0.500) total time=   0.0s\n",
            "[CV 5/5] END C=4, gamma=0.1, kernel=linear;, score=(train=0.648, test=0.588) total time=   0.0s\n",
            "[CV 1/5] END C=4, gamma=0.1, kernel=poly;, score=(train=0.863, test=0.487) total time=   0.0s\n",
            "[CV 2/5] END C=4, gamma=0.1, kernel=poly;, score=(train=0.869, test=0.562) total time=   0.0s\n",
            "[CV 3/5] END C=4, gamma=0.1, kernel=poly;, score=(train=0.869, test=0.537) total time=   0.0s\n",
            "[CV 4/5] END C=4, gamma=0.1, kernel=poly;, score=(train=0.894, test=0.537) total time=   0.0s\n",
            "[CV 5/5] END C=4, gamma=0.1, kernel=poly;, score=(train=0.879, test=0.562) total time=   0.0s\n",
            "[CV 1/5] END C=4, gamma=0.30000000000000004, kernel=linear;, score=(train=0.623, test=0.512) total time=   0.0s\n",
            "[CV 2/5] END C=4, gamma=0.30000000000000004, kernel=linear;, score=(train=0.654, test=0.525) total time=   0.0s\n",
            "[CV 3/5] END C=4, gamma=0.30000000000000004, kernel=linear;, score=(train=0.626, test=0.588) total time=   0.0s\n",
            "[CV 4/5] END C=4, gamma=0.30000000000000004, kernel=linear;, score=(train=0.598, test=0.500) total time=   0.0s\n",
            "[CV 5/5] END C=4, gamma=0.30000000000000004, kernel=linear;, score=(train=0.648, test=0.588) total time=   0.0s\n",
            "[CV 1/5] END C=4, gamma=0.30000000000000004, kernel=poly;, score=(train=0.988, test=0.562) total time=   0.0s\n",
            "[CV 2/5] END C=4, gamma=0.30000000000000004, kernel=poly;, score=(train=0.981, test=0.525) total time=   0.0s\n",
            "[CV 3/5] END C=4, gamma=0.30000000000000004, kernel=poly;, score=(train=0.978, test=0.500) total time=   0.0s\n",
            "[CV 4/5] END C=4, gamma=0.30000000000000004, kernel=poly;, score=(train=0.991, test=0.537) total time=   0.0s\n",
            "[CV 5/5] END C=4, gamma=0.30000000000000004, kernel=poly;, score=(train=0.978, test=0.613) total time=   0.0s\n",
            "[CV 1/5] END C=4, gamma=0.5000000000000001, kernel=linear;, score=(train=0.623, test=0.512) total time=   0.0s\n",
            "[CV 2/5] END C=4, gamma=0.5000000000000001, kernel=linear;, score=(train=0.654, test=0.525) total time=   0.0s\n",
            "[CV 3/5] END C=4, gamma=0.5000000000000001, kernel=linear;, score=(train=0.626, test=0.588) total time=   0.0s\n",
            "[CV 4/5] END C=4, gamma=0.5000000000000001, kernel=linear;, score=(train=0.598, test=0.500) total time=   0.0s\n",
            "[CV 5/5] END C=4, gamma=0.5000000000000001, kernel=linear;, score=(train=0.648, test=0.588) total time=   0.0s\n",
            "[CV 1/5] END C=4, gamma=0.5000000000000001, kernel=poly;, score=(train=0.991, test=0.512) total time=   0.0s\n",
            "[CV 2/5] END C=4, gamma=0.5000000000000001, kernel=poly;, score=(train=0.991, test=0.562) total time=   0.0s\n",
            "[CV 3/5] END C=4, gamma=0.5000000000000001, kernel=poly;, score=(train=0.984, test=0.487) total time=   0.0s\n",
            "[CV 4/5] END C=4, gamma=0.5000000000000001, kernel=poly;, score=(train=0.991, test=0.500) total time=   0.0s\n",
            "[CV 5/5] END C=4, gamma=0.5000000000000001, kernel=poly;, score=(train=0.984, test=0.575) total time=   0.0s\n",
            "[CV 1/5] END C=4, gamma=0.7000000000000001, kernel=linear;, score=(train=0.623, test=0.512) total time=   0.0s\n",
            "[CV 2/5] END C=4, gamma=0.7000000000000001, kernel=linear;, score=(train=0.654, test=0.525) total time=   0.0s\n",
            "[CV 3/5] END C=4, gamma=0.7000000000000001, kernel=linear;, score=(train=0.626, test=0.588) total time=   0.0s\n",
            "[CV 4/5] END C=4, gamma=0.7000000000000001, kernel=linear;, score=(train=0.598, test=0.500) total time=   0.0s\n",
            "[CV 5/5] END C=4, gamma=0.7000000000000001, kernel=linear;, score=(train=0.648, test=0.588) total time=   0.0s\n",
            "[CV 1/5] END C=4, gamma=0.7000000000000001, kernel=poly;, score=(train=0.994, test=0.500) total time=   0.0s\n",
            "[CV 2/5] END C=4, gamma=0.7000000000000001, kernel=poly;, score=(train=0.994, test=0.562) total time=   0.0s\n",
            "[CV 3/5] END C=4, gamma=0.7000000000000001, kernel=poly;, score=(train=0.988, test=0.487) total time=   0.0s\n",
            "[CV 4/5] END C=4, gamma=0.7000000000000001, kernel=poly;, score=(train=0.991, test=0.525) total time=   0.0s\n",
            "[CV 5/5] END C=4, gamma=0.7000000000000001, kernel=poly;, score=(train=0.988, test=0.562) total time=   0.0s\n",
            "[CV 1/5] END C=4, gamma=0.9000000000000001, kernel=linear;, score=(train=0.623, test=0.512) total time=   0.0s\n",
            "[CV 2/5] END C=4, gamma=0.9000000000000001, kernel=linear;, score=(train=0.654, test=0.525) total time=   0.0s\n",
            "[CV 3/5] END C=4, gamma=0.9000000000000001, kernel=linear;, score=(train=0.626, test=0.588) total time=   0.0s\n",
            "[CV 4/5] END C=4, gamma=0.9000000000000001, kernel=linear;, score=(train=0.598, test=0.500) total time=   0.0s\n",
            "[CV 5/5] END C=4, gamma=0.9000000000000001, kernel=linear;, score=(train=0.648, test=0.588) total time=   0.0s\n",
            "[CV 1/5] END C=4, gamma=0.9000000000000001, kernel=poly;, score=(train=0.994, test=0.500) total time=   0.0s\n",
            "[CV 2/5] END C=4, gamma=0.9000000000000001, kernel=poly;, score=(train=0.994, test=0.562) total time=   0.0s\n",
            "[CV 3/5] END C=4, gamma=0.9000000000000001, kernel=poly;, score=(train=0.988, test=0.500) total time=   0.0s\n",
            "[CV 4/5] END C=4, gamma=0.9000000000000001, kernel=poly;, score=(train=0.994, test=0.525) total time=   0.0s\n",
            "[CV 5/5] END C=4, gamma=0.9000000000000001, kernel=poly;, score=(train=0.988, test=0.588) total time=   0.0s\n",
            "[CV 1/5] END C=6, gamma=0.1, kernel=linear;, score=(train=0.623, test=0.525) total time=   0.0s\n",
            "[CV 2/5] END C=6, gamma=0.1, kernel=linear;, score=(train=0.660, test=0.525) total time=   0.0s\n",
            "[CV 3/5] END C=6, gamma=0.1, kernel=linear;, score=(train=0.617, test=0.588) total time=   0.0s\n",
            "[CV 4/5] END C=6, gamma=0.1, kernel=linear;, score=(train=0.592, test=0.500) total time=   0.0s\n",
            "[CV 5/5] END C=6, gamma=0.1, kernel=linear;, score=(train=0.645, test=0.575) total time=   0.0s\n",
            "[CV 1/5] END C=6, gamma=0.1, kernel=poly;, score=(train=0.897, test=0.537) total time=   0.0s\n",
            "[CV 2/5] END C=6, gamma=0.1, kernel=poly;, score=(train=0.891, test=0.575) total time=   0.0s\n",
            "[CV 3/5] END C=6, gamma=0.1, kernel=poly;, score=(train=0.888, test=0.525) total time=   0.0s\n",
            "[CV 4/5] END C=6, gamma=0.1, kernel=poly;, score=(train=0.913, test=0.525) total time=   0.0s\n",
            "[CV 5/5] END C=6, gamma=0.1, kernel=poly;, score=(train=0.916, test=0.537) total time=   0.0s\n",
            "[CV 1/5] END C=6, gamma=0.30000000000000004, kernel=linear;, score=(train=0.623, test=0.525) total time=   0.0s\n",
            "[CV 2/5] END C=6, gamma=0.30000000000000004, kernel=linear;, score=(train=0.660, test=0.525) total time=   0.0s\n",
            "[CV 3/5] END C=6, gamma=0.30000000000000004, kernel=linear;, score=(train=0.617, test=0.588) total time=   0.0s\n",
            "[CV 4/5] END C=6, gamma=0.30000000000000004, kernel=linear;, score=(train=0.592, test=0.500) total time=   0.0s\n",
            "[CV 5/5] END C=6, gamma=0.30000000000000004, kernel=linear;, score=(train=0.645, test=0.575) total time=   0.0s\n",
            "[CV 1/5] END C=6, gamma=0.30000000000000004, kernel=poly;, score=(train=0.988, test=0.575) total time=   0.0s\n",
            "[CV 2/5] END C=6, gamma=0.30000000000000004, kernel=poly;, score=(train=0.978, test=0.537) total time=   0.0s\n",
            "[CV 3/5] END C=6, gamma=0.30000000000000004, kernel=poly;, score=(train=0.981, test=0.500) total time=   0.0s\n",
            "[CV 4/5] END C=6, gamma=0.30000000000000004, kernel=poly;, score=(train=0.991, test=0.525) total time=   0.0s\n",
            "[CV 5/5] END C=6, gamma=0.30000000000000004, kernel=poly;, score=(train=0.984, test=0.588) total time=   0.0s\n",
            "[CV 1/5] END C=6, gamma=0.5000000000000001, kernel=linear;, score=(train=0.623, test=0.525) total time=   0.0s\n",
            "[CV 2/5] END C=6, gamma=0.5000000000000001, kernel=linear;, score=(train=0.660, test=0.525) total time=   0.0s\n",
            "[CV 3/5] END C=6, gamma=0.5000000000000001, kernel=linear;, score=(train=0.617, test=0.588) total time=   0.0s\n",
            "[CV 4/5] END C=6, gamma=0.5000000000000001, kernel=linear;, score=(train=0.592, test=0.500) total time=   0.0s\n",
            "[CV 5/5] END C=6, gamma=0.5000000000000001, kernel=linear;, score=(train=0.645, test=0.575) total time=   0.0s\n",
            "[CV 1/5] END C=6, gamma=0.5000000000000001, kernel=poly;, score=(train=0.994, test=0.512) total time=   0.0s\n",
            "[CV 2/5] END C=6, gamma=0.5000000000000001, kernel=poly;, score=(train=0.994, test=0.537) total time=   0.0s\n",
            "[CV 3/5] END C=6, gamma=0.5000000000000001, kernel=poly;, score=(train=0.984, test=0.500) total time=   0.0s\n",
            "[CV 4/5] END C=6, gamma=0.5000000000000001, kernel=poly;, score=(train=0.991, test=0.487) total time=   0.0s\n",
            "[CV 5/5] END C=6, gamma=0.5000000000000001, kernel=poly;, score=(train=0.988, test=0.575) total time=   0.0s\n",
            "[CV 1/5] END C=6, gamma=0.7000000000000001, kernel=linear;, score=(train=0.623, test=0.525) total time=   0.0s\n",
            "[CV 2/5] END C=6, gamma=0.7000000000000001, kernel=linear;, score=(train=0.660, test=0.525) total time=   0.0s\n",
            "[CV 3/5] END C=6, gamma=0.7000000000000001, kernel=linear;, score=(train=0.617, test=0.588) total time=   0.0s\n",
            "[CV 4/5] END C=6, gamma=0.7000000000000001, kernel=linear;, score=(train=0.592, test=0.500) total time=   0.0s\n",
            "[CV 5/5] END C=6, gamma=0.7000000000000001, kernel=linear;, score=(train=0.645, test=0.575) total time=   0.0s\n",
            "[CV 1/5] END C=6, gamma=0.7000000000000001, kernel=poly;, score=(train=0.994, test=0.500) total time=   0.0s\n",
            "[CV 2/5] END C=6, gamma=0.7000000000000001, kernel=poly;, score=(train=0.994, test=0.575) total time=   0.0s\n",
            "[CV 3/5] END C=6, gamma=0.7000000000000001, kernel=poly;, score=(train=0.988, test=0.500) total time=   0.0s\n",
            "[CV 4/5] END C=6, gamma=0.7000000000000001, kernel=poly;, score=(train=0.991, test=0.537) total time=   0.0s\n",
            "[CV 5/5] END C=6, gamma=0.7000000000000001, kernel=poly;, score=(train=0.988, test=0.575) total time=   0.0s\n",
            "[CV 1/5] END C=6, gamma=0.9000000000000001, kernel=linear;, score=(train=0.623, test=0.525) total time=   0.0s\n",
            "[CV 2/5] END C=6, gamma=0.9000000000000001, kernel=linear;, score=(train=0.660, test=0.525) total time=   0.0s\n",
            "[CV 3/5] END C=6, gamma=0.9000000000000001, kernel=linear;, score=(train=0.617, test=0.588) total time=   0.0s\n",
            "[CV 4/5] END C=6, gamma=0.9000000000000001, kernel=linear;, score=(train=0.592, test=0.500) total time=   0.0s\n",
            "[CV 5/5] END C=6, gamma=0.9000000000000001, kernel=linear;, score=(train=0.645, test=0.575) total time=   0.0s\n",
            "[CV 1/5] END C=6, gamma=0.9000000000000001, kernel=poly;, score=(train=0.994, test=0.500) total time=   0.0s\n",
            "[CV 2/5] END C=6, gamma=0.9000000000000001, kernel=poly;, score=(train=0.994, test=0.550) total time=   0.0s\n",
            "[CV 3/5] END C=6, gamma=0.9000000000000001, kernel=poly;, score=(train=0.988, test=0.500) total time=   0.0s\n",
            "[CV 4/5] END C=6, gamma=0.9000000000000001, kernel=poly;, score=(train=0.994, test=0.512) total time=   0.0s\n",
            "[CV 5/5] END C=6, gamma=0.9000000000000001, kernel=poly;, score=(train=0.988, test=0.575) total time=   0.0s\n",
            "[CV 1/5] END C=8, gamma=0.1, kernel=linear;, score=(train=0.620, test=0.525) total time=   0.0s\n",
            "[CV 2/5] END C=8, gamma=0.1, kernel=linear;, score=(train=0.660, test=0.525) total time=   0.0s\n",
            "[CV 3/5] END C=8, gamma=0.1, kernel=linear;, score=(train=0.614, test=0.575) total time=   0.0s\n",
            "[CV 4/5] END C=8, gamma=0.1, kernel=linear;, score=(train=0.604, test=0.500) total time=   0.0s\n",
            "[CV 5/5] END C=8, gamma=0.1, kernel=linear;, score=(train=0.642, test=0.575) total time=   0.0s\n",
            "[CV 1/5] END C=8, gamma=0.1, kernel=poly;, score=(train=0.916, test=0.537) total time=   0.0s\n",
            "[CV 2/5] END C=8, gamma=0.1, kernel=poly;, score=(train=0.907, test=0.550) total time=   0.0s\n",
            "[CV 3/5] END C=8, gamma=0.1, kernel=poly;, score=(train=0.919, test=0.525) total time=   0.0s\n",
            "[CV 4/5] END C=8, gamma=0.1, kernel=poly;, score=(train=0.928, test=0.537) total time=   0.0s\n",
            "[CV 5/5] END C=8, gamma=0.1, kernel=poly;, score=(train=0.928, test=0.562) total time=   0.0s\n",
            "[CV 1/5] END C=8, gamma=0.30000000000000004, kernel=linear;, score=(train=0.620, test=0.525) total time=   0.0s\n",
            "[CV 2/5] END C=8, gamma=0.30000000000000004, kernel=linear;, score=(train=0.660, test=0.525) total time=   0.0s\n",
            "[CV 3/5] END C=8, gamma=0.30000000000000004, kernel=linear;, score=(train=0.614, test=0.575) total time=   0.0s\n",
            "[CV 4/5] END C=8, gamma=0.30000000000000004, kernel=linear;, score=(train=0.604, test=0.500) total time=   0.0s\n",
            "[CV 5/5] END C=8, gamma=0.30000000000000004, kernel=linear;, score=(train=0.642, test=0.575) total time=   0.0s\n",
            "[CV 1/5] END C=8, gamma=0.30000000000000004, kernel=poly;, score=(train=0.984, test=0.600) total time=   0.0s\n",
            "[CV 2/5] END C=8, gamma=0.30000000000000004, kernel=poly;, score=(train=0.981, test=0.537) total time=   0.0s\n",
            "[CV 3/5] END C=8, gamma=0.30000000000000004, kernel=poly;, score=(train=0.981, test=0.500) total time=   0.0s\n",
            "[CV 4/5] END C=8, gamma=0.30000000000000004, kernel=poly;, score=(train=0.991, test=0.525) total time=   0.0s\n",
            "[CV 5/5] END C=8, gamma=0.30000000000000004, kernel=poly;, score=(train=0.981, test=0.562) total time=   0.0s\n",
            "[CV 1/5] END C=8, gamma=0.5000000000000001, kernel=linear;, score=(train=0.620, test=0.525) total time=   0.0s\n",
            "[CV 2/5] END C=8, gamma=0.5000000000000001, kernel=linear;, score=(train=0.660, test=0.525) total time=   0.0s\n",
            "[CV 3/5] END C=8, gamma=0.5000000000000001, kernel=linear;, score=(train=0.614, test=0.575) total time=   0.0s\n",
            "[CV 4/5] END C=8, gamma=0.5000000000000001, kernel=linear;, score=(train=0.604, test=0.500) total time=   0.0s\n",
            "[CV 5/5] END C=8, gamma=0.5000000000000001, kernel=linear;, score=(train=0.642, test=0.575) total time=   0.0s\n",
            "[CV 1/5] END C=8, gamma=0.5000000000000001, kernel=poly;, score=(train=0.994, test=0.500) total time=   0.0s\n",
            "[CV 2/5] END C=8, gamma=0.5000000000000001, kernel=poly;, score=(train=0.994, test=0.550) total time=   0.0s\n",
            "[CV 3/5] END C=8, gamma=0.5000000000000001, kernel=poly;, score=(train=0.988, test=0.500) total time=   0.0s\n",
            "[CV 4/5] END C=8, gamma=0.5000000000000001, kernel=poly;, score=(train=0.991, test=0.500) total time=   0.0s\n",
            "[CV 5/5] END C=8, gamma=0.5000000000000001, kernel=poly;, score=(train=0.988, test=0.575) total time=   0.0s\n",
            "[CV 1/5] END C=8, gamma=0.7000000000000001, kernel=linear;, score=(train=0.620, test=0.525) total time=   0.0s\n",
            "[CV 2/5] END C=8, gamma=0.7000000000000001, kernel=linear;, score=(train=0.660, test=0.525) total time=   0.0s\n",
            "[CV 3/5] END C=8, gamma=0.7000000000000001, kernel=linear;, score=(train=0.614, test=0.575) total time=   0.0s\n",
            "[CV 4/5] END C=8, gamma=0.7000000000000001, kernel=linear;, score=(train=0.604, test=0.500) total time=   0.0s\n",
            "[CV 5/5] END C=8, gamma=0.7000000000000001, kernel=linear;, score=(train=0.642, test=0.575) total time=   0.0s\n",
            "[CV 1/5] END C=8, gamma=0.7000000000000001, kernel=poly;, score=(train=0.994, test=0.500) total time=   0.0s\n",
            "[CV 2/5] END C=8, gamma=0.7000000000000001, kernel=poly;, score=(train=0.994, test=0.562) total time=   0.0s\n",
            "[CV 3/5] END C=8, gamma=0.7000000000000001, kernel=poly;, score=(train=0.988, test=0.500) total time=   0.0s\n",
            "[CV 4/5] END C=8, gamma=0.7000000000000001, kernel=poly;, score=(train=0.994, test=0.537) total time=   0.0s\n",
            "[CV 5/5] END C=8, gamma=0.7000000000000001, kernel=poly;, score=(train=0.988, test=0.588) total time=   0.0s\n",
            "[CV 1/5] END C=8, gamma=0.9000000000000001, kernel=linear;, score=(train=0.620, test=0.525) total time=   0.0s\n",
            "[CV 2/5] END C=8, gamma=0.9000000000000001, kernel=linear;, score=(train=0.660, test=0.525) total time=   0.0s\n",
            "[CV 3/5] END C=8, gamma=0.9000000000000001, kernel=linear;, score=(train=0.614, test=0.575) total time=   0.0s\n",
            "[CV 4/5] END C=8, gamma=0.9000000000000001, kernel=linear;, score=(train=0.604, test=0.500) total time=   0.0s\n",
            "[CV 5/5] END C=8, gamma=0.9000000000000001, kernel=linear;, score=(train=0.642, test=0.575) total time=   0.0s\n",
            "[CV 1/5] END C=8, gamma=0.9000000000000001, kernel=poly;, score=(train=0.994, test=0.500) total time=   0.0s\n",
            "[CV 2/5] END C=8, gamma=0.9000000000000001, kernel=poly;, score=(train=0.994, test=0.562) total time=   0.0s\n",
            "[CV 3/5] END C=8, gamma=0.9000000000000001, kernel=poly;, score=(train=0.988, test=0.500) total time=   0.0s\n",
            "[CV 4/5] END C=8, gamma=0.9000000000000001, kernel=poly;, score=(train=0.994, test=0.512) total time=   0.0s\n",
            "[CV 5/5] END C=8, gamma=0.9000000000000001, kernel=poly;, score=(train=0.991, test=0.537) total time=   0.0s\n",
            "----------\n",
            "iter: 1\n",
            "n_candidates: 14\n",
            "n_resources: 1206\n",
            "Fitting 5 folds for each of 14 candidates, totalling 70 fits\n",
            "[CV 1/5] END C=6, gamma=0.1, kernel=linear;, score=(train=0.577, test=0.560) total time=   0.2s\n",
            "[CV 2/5] END C=6, gamma=0.1, kernel=linear;, score=(train=0.564, test=0.490) total time=   0.2s\n",
            "[CV 3/5] END C=6, gamma=0.1, kernel=linear;, score=(train=0.579, test=0.560) total time=   0.2s\n",
            "[CV 4/5] END C=6, gamma=0.1, kernel=linear;, score=(train=0.555, test=0.552) total time=   0.1s\n",
            "[CV 5/5] END C=6, gamma=0.1, kernel=linear;, score=(train=0.585, test=0.556) total time=   0.2s\n",
            "[CV 1/5] END C=6, gamma=0.30000000000000004, kernel=linear;, score=(train=0.577, test=0.560) total time=   0.2s\n",
            "[CV 2/5] END C=6, gamma=0.30000000000000004, kernel=linear;, score=(train=0.564, test=0.490) total time=   0.1s\n",
            "[CV 3/5] END C=6, gamma=0.30000000000000004, kernel=linear;, score=(train=0.579, test=0.560) total time=   0.1s\n",
            "[CV 4/5] END C=6, gamma=0.30000000000000004, kernel=linear;, score=(train=0.555, test=0.552) total time=   0.1s\n",
            "[CV 5/5] END C=6, gamma=0.30000000000000004, kernel=linear;, score=(train=0.585, test=0.556) total time=   0.1s\n",
            "[CV 1/5] END C=6, gamma=0.5000000000000001, kernel=linear;, score=(train=0.577, test=0.560) total time=   0.2s\n",
            "[CV 2/5] END C=6, gamma=0.5000000000000001, kernel=linear;, score=(train=0.564, test=0.490) total time=   0.1s\n",
            "[CV 3/5] END C=6, gamma=0.5000000000000001, kernel=linear;, score=(train=0.579, test=0.560) total time=   0.1s\n",
            "[CV 4/5] END C=6, gamma=0.5000000000000001, kernel=linear;, score=(train=0.555, test=0.552) total time=   0.1s\n",
            "[CV 5/5] END C=6, gamma=0.5000000000000001, kernel=linear;, score=(train=0.585, test=0.556) total time=   0.2s\n",
            "[CV 1/5] END C=6, gamma=0.7000000000000001, kernel=linear;, score=(train=0.577, test=0.560) total time=   0.2s\n",
            "[CV 2/5] END C=6, gamma=0.7000000000000001, kernel=linear;, score=(train=0.564, test=0.490) total time=   0.2s\n",
            "[CV 3/5] END C=6, gamma=0.7000000000000001, kernel=linear;, score=(train=0.579, test=0.560) total time=   0.2s\n",
            "[CV 4/5] END C=6, gamma=0.7000000000000001, kernel=linear;, score=(train=0.555, test=0.552) total time=   0.2s\n",
            "[CV 5/5] END C=6, gamma=0.7000000000000001, kernel=linear;, score=(train=0.585, test=0.556) total time=   0.2s\n",
            "[CV 1/5] END C=6, gamma=0.9000000000000001, kernel=linear;, score=(train=0.577, test=0.560) total time=   0.2s\n",
            "[CV 2/5] END C=6, gamma=0.9000000000000001, kernel=linear;, score=(train=0.564, test=0.490) total time=   0.2s\n",
            "[CV 3/5] END C=6, gamma=0.9000000000000001, kernel=linear;, score=(train=0.579, test=0.560) total time=   0.2s\n",
            "[CV 4/5] END C=6, gamma=0.9000000000000001, kernel=linear;, score=(train=0.555, test=0.552) total time=   0.2s\n",
            "[CV 5/5] END C=6, gamma=0.9000000000000001, kernel=linear;, score=(train=0.585, test=0.556) total time=   0.2s\n",
            "[CV 1/5] END C=2, gamma=0.30000000000000004, kernel=linear;, score=(train=0.577, test=0.560) total time=   0.2s\n",
            "[CV 2/5] END C=2, gamma=0.30000000000000004, kernel=linear;, score=(train=0.564, test=0.494) total time=   0.2s\n",
            "[CV 3/5] END C=2, gamma=0.30000000000000004, kernel=linear;, score=(train=0.579, test=0.552) total time=   0.2s\n",
            "[CV 4/5] END C=2, gamma=0.30000000000000004, kernel=linear;, score=(train=0.555, test=0.552) total time=   0.5s\n",
            "[CV 5/5] END C=2, gamma=0.30000000000000004, kernel=linear;, score=(train=0.584, test=0.556) total time=   0.1s\n",
            "[CV 1/5] END C=2, gamma=0.1, kernel=linear;, score=(train=0.577, test=0.560) total time=   0.3s\n",
            "[CV 2/5] END C=2, gamma=0.1, kernel=linear;, score=(train=0.564, test=0.494) total time=   0.2s\n",
            "[CV 3/5] END C=2, gamma=0.1, kernel=linear;, score=(train=0.579, test=0.552) total time=   0.1s\n",
            "[CV 4/5] END C=2, gamma=0.1, kernel=linear;, score=(train=0.555, test=0.552) total time=   0.1s\n",
            "[CV 5/5] END C=2, gamma=0.1, kernel=linear;, score=(train=0.584, test=0.556) total time=   0.4s\n",
            "[CV 1/5] END C=6, gamma=0.30000000000000004, kernel=poly;, score=(train=0.962, test=0.556) total time=   0.2s\n",
            "[CV 2/5] END C=6, gamma=0.30000000000000004, kernel=poly;, score=(train=0.944, test=0.506) total time=   0.5s\n",
            "[CV 3/5] END C=6, gamma=0.30000000000000004, kernel=poly;, score=(train=0.945, test=0.627) total time=   0.4s\n",
            "[CV 4/5] END C=6, gamma=0.30000000000000004, kernel=poly;, score=(train=0.940, test=0.598) total time=   0.3s\n",
            "[CV 5/5] END C=6, gamma=0.30000000000000004, kernel=poly;, score=(train=0.941, test=0.647) total time=   0.3s\n",
            "[CV 1/5] END C=2, gamma=0.7000000000000001, kernel=linear;, score=(train=0.577, test=0.560) total time=   0.1s\n",
            "[CV 2/5] END C=2, gamma=0.7000000000000001, kernel=linear;, score=(train=0.564, test=0.494) total time=   0.1s\n",
            "[CV 3/5] END C=2, gamma=0.7000000000000001, kernel=linear;, score=(train=0.579, test=0.552) total time=   0.1s\n",
            "[CV 4/5] END C=2, gamma=0.7000000000000001, kernel=linear;, score=(train=0.555, test=0.552) total time=   0.1s\n",
            "[CV 5/5] END C=2, gamma=0.7000000000000001, kernel=linear;, score=(train=0.584, test=0.556) total time=   0.1s\n",
            "[CV 1/5] END C=2, gamma=0.9000000000000001, kernel=linear;, score=(train=0.577, test=0.560) total time=   0.1s\n",
            "[CV 2/5] END C=2, gamma=0.9000000000000001, kernel=linear;, score=(train=0.564, test=0.494) total time=   0.1s\n",
            "[CV 3/5] END C=2, gamma=0.9000000000000001, kernel=linear;, score=(train=0.579, test=0.552) total time=   0.1s\n",
            "[CV 4/5] END C=2, gamma=0.9000000000000001, kernel=linear;, score=(train=0.555, test=0.552) total time=   0.1s\n",
            "[CV 5/5] END C=2, gamma=0.9000000000000001, kernel=linear;, score=(train=0.584, test=0.556) total time=   0.1s\n",
            "[CV 1/5] END C=2, gamma=0.5000000000000001, kernel=linear;, score=(train=0.577, test=0.560) total time=   0.1s\n",
            "[CV 2/5] END C=2, gamma=0.5000000000000001, kernel=linear;, score=(train=0.564, test=0.494) total time=   0.1s\n",
            "[CV 3/5] END C=2, gamma=0.5000000000000001, kernel=linear;, score=(train=0.579, test=0.552) total time=   0.1s\n",
            "[CV 4/5] END C=2, gamma=0.5000000000000001, kernel=linear;, score=(train=0.555, test=0.552) total time=   0.1s\n",
            "[CV 5/5] END C=2, gamma=0.5000000000000001, kernel=linear;, score=(train=0.584, test=0.556) total time=   0.1s\n",
            "[CV 1/5] END C=8, gamma=0.30000000000000004, kernel=poly;, score=(train=0.968, test=0.556) total time=   0.3s\n",
            "[CV 2/5] END C=8, gamma=0.30000000000000004, kernel=poly;, score=(train=0.953, test=0.506) total time=   0.5s\n",
            "[CV 3/5] END C=8, gamma=0.30000000000000004, kernel=poly;, score=(train=0.949, test=0.639) total time=   0.4s\n",
            "[CV 4/5] END C=8, gamma=0.30000000000000004, kernel=poly;, score=(train=0.947, test=0.593) total time=   0.4s\n",
            "[CV 5/5] END C=8, gamma=0.30000000000000004, kernel=poly;, score=(train=0.943, test=0.643) total time=   0.3s\n",
            "[CV 1/5] END C=2, gamma=0.5000000000000001, kernel=poly;, score=(train=0.969, test=0.552) total time=   0.3s\n",
            "[CV 2/5] END C=2, gamma=0.5000000000000001, kernel=poly;, score=(train=0.956, test=0.498) total time=   0.4s\n",
            "[CV 3/5] END C=2, gamma=0.5000000000000001, kernel=poly;, score=(train=0.952, test=0.639) total time=   0.3s\n",
            "[CV 4/5] END C=2, gamma=0.5000000000000001, kernel=poly;, score=(train=0.947, test=0.598) total time=   0.5s\n",
            "[CV 5/5] END C=2, gamma=0.5000000000000001, kernel=poly;, score=(train=0.945, test=0.639) total time=   0.5s\n",
            "[CV 1/5] END C=4, gamma=0.30000000000000004, kernel=poly;, score=(train=0.955, test=0.556) total time=   0.3s\n",
            "[CV 2/5] END C=4, gamma=0.30000000000000004, kernel=poly;, score=(train=0.937, test=0.510) total time=   0.4s\n",
            "[CV 3/5] END C=4, gamma=0.30000000000000004, kernel=poly;, score=(train=0.940, test=0.618) total time=   0.4s\n",
            "[CV 4/5] END C=4, gamma=0.30000000000000004, kernel=poly;, score=(train=0.940, test=0.598) total time=   0.6s\n",
            "[CV 5/5] END C=4, gamma=0.30000000000000004, kernel=poly;, score=(train=0.934, test=0.651) total time=   0.4s\n",
            "----------\n",
            "iter: 2\n",
            "n_candidates: 5\n",
            "n_resources: 3618\n",
            "Fitting 5 folds for each of 5 candidates, totalling 25 fits\n",
            "[CV 1/5] END C=6, gamma=0.9000000000000001, kernel=linear;, score=(train=0.571, test=0.512) total time=   1.6s\n",
            "[CV 2/5] END C=6, gamma=0.9000000000000001, kernel=linear;, score=(train=0.568, test=0.490) total time=   1.3s\n",
            "[CV 3/5] END C=6, gamma=0.9000000000000001, kernel=linear;, score=(train=0.561, test=0.581) total time=   1.2s\n",
            "[CV 4/5] END C=6, gamma=0.9000000000000001, kernel=linear;, score=(train=0.560, test=0.521) total time=   1.3s\n",
            "[CV 5/5] END C=6, gamma=0.9000000000000001, kernel=linear;, score=(train=0.538, test=0.520) total time=   1.2s\n",
            "[CV 1/5] END C=2, gamma=0.5000000000000001, kernel=poly;, score=(train=0.916, test=0.552) total time=   6.6s\n",
            "[CV 2/5] END C=2, gamma=0.5000000000000001, kernel=poly;, score=(train=0.902, test=0.650) total time=   7.4s\n",
            "[CV 3/5] END C=2, gamma=0.5000000000000001, kernel=poly;, score=(train=0.884, test=0.744) total time=   7.6s\n",
            "[CV 4/5] END C=2, gamma=0.5000000000000001, kernel=poly;, score=(train=0.885, test=0.740) total time=   6.4s\n",
            "[CV 5/5] END C=2, gamma=0.5000000000000001, kernel=poly;, score=(train=0.886, test=0.734) total time=   7.7s\n",
            "[CV 1/5] END C=6, gamma=0.30000000000000004, kernel=poly;, score=(train=0.912, test=0.555) total time=   3.3s\n",
            "[CV 2/5] END C=6, gamma=0.30000000000000004, kernel=poly;, score=(train=0.894, test=0.651) total time=   3.5s\n",
            "[CV 3/5] END C=6, gamma=0.30000000000000004, kernel=poly;, score=(train=0.877, test=0.739) total time=   5.3s\n",
            "[CV 4/5] END C=6, gamma=0.30000000000000004, kernel=poly;, score=(train=0.877, test=0.737) total time=   4.4s\n",
            "[CV 5/5] END C=6, gamma=0.30000000000000004, kernel=poly;, score=(train=0.883, test=0.721) total time=   3.5s\n",
            "[CV 1/5] END C=4, gamma=0.30000000000000004, kernel=poly;, score=(train=0.906, test=0.557) total time=   3.7s\n",
            "[CV 2/5] END C=4, gamma=0.30000000000000004, kernel=poly;, score=(train=0.888, test=0.650) total time=   2.7s\n",
            "[CV 3/5] END C=4, gamma=0.30000000000000004, kernel=poly;, score=(train=0.868, test=0.732) total time=   2.8s\n",
            "[CV 4/5] END C=4, gamma=0.30000000000000004, kernel=poly;, score=(train=0.870, test=0.739) total time=   2.7s\n",
            "[CV 5/5] END C=4, gamma=0.30000000000000004, kernel=poly;, score=(train=0.873, test=0.721) total time=   4.2s\n",
            "[CV 1/5] END C=8, gamma=0.30000000000000004, kernel=poly;, score=(train=0.915, test=0.559) total time=   4.5s\n",
            "[CV 2/5] END C=8, gamma=0.30000000000000004, kernel=poly;, score=(train=0.900, test=0.645) total time=   6.7s\n",
            "[CV 3/5] END C=8, gamma=0.30000000000000004, kernel=poly;, score=(train=0.881, test=0.741) total time=   5.8s\n",
            "[CV 4/5] END C=8, gamma=0.30000000000000004, kernel=poly;, score=(train=0.881, test=0.744) total time=   5.0s\n",
            "[CV 5/5] END C=8, gamma=0.30000000000000004, kernel=poly;, score=(train=0.886, test=0.739) total time=   7.2s\n",
            "----------\n",
            "iter: 3\n",
            "n_candidates: 2\n",
            "n_resources: 10854\n",
            "Fitting 5 folds for each of 2 candidates, totalling 10 fits\n",
            "[CV 1/5] END C=2, gamma=0.5000000000000001, kernel=poly;, score=(train=0.890, test=0.560) total time=  39.0s\n",
            "[CV 2/5] END C=2, gamma=0.5000000000000001, kernel=poly;, score=(train=0.853, test=0.704) total time=  50.0s\n",
            "[CV 3/5] END C=2, gamma=0.5000000000000001, kernel=poly;, score=(train=0.822, test=0.819) total time= 1.2min\n",
            "[CV 4/5] END C=2, gamma=0.5000000000000001, kernel=poly;, score=(train=0.826, test=0.826) total time= 1.0min\n",
            "[CV 5/5] END C=2, gamma=0.5000000000000001, kernel=poly;, score=(train=0.824, test=0.818) total time= 1.1min\n",
            "[CV 1/5] END C=8, gamma=0.30000000000000004, kernel=poly;, score=(train=0.888, test=0.560) total time=  39.2s\n",
            "[CV 2/5] END C=8, gamma=0.30000000000000004, kernel=poly;, score=(train=0.853, test=0.704) total time=  46.6s\n",
            "[CV 3/5] END C=8, gamma=0.30000000000000004, kernel=poly;, score=(train=0.821, test=0.819) total time=  52.4s\n",
            "[CV 4/5] END C=8, gamma=0.30000000000000004, kernel=poly;, score=(train=0.824, test=0.823) total time= 1.0min\n",
            "[CV 5/5] END C=8, gamma=0.30000000000000004, kernel=poly;, score=(train=0.824, test=0.817) total time= 1.0min\n"
          ]
        },
        {
          "output_type": "execute_result",
          "data": {
            "text/plain": [
              "HalvingGridSearchCV(estimator=SVC(),\n",
              "                    param_grid={'C': array([2, 4, 6, 8]),\n",
              "                                'gamma': array([0.1, 0.3, 0.5, 0.7, 0.9]),\n",
              "                                'kernel': ['linear', 'poly']},\n",
              "                    verbose=3)"
            ],
            "text/html": [
              "<style>#sk-container-id-2 {color: black;background-color: white;}#sk-container-id-2 pre{padding: 0;}#sk-container-id-2 div.sk-toggleable {background-color: white;}#sk-container-id-2 label.sk-toggleable__label {cursor: pointer;display: block;width: 100%;margin-bottom: 0;padding: 0.3em;box-sizing: border-box;text-align: center;}#sk-container-id-2 label.sk-toggleable__label-arrow:before {content: \"▸\";float: left;margin-right: 0.25em;color: #696969;}#sk-container-id-2 label.sk-toggleable__label-arrow:hover:before {color: black;}#sk-container-id-2 div.sk-estimator:hover label.sk-toggleable__label-arrow:before {color: black;}#sk-container-id-2 div.sk-toggleable__content {max-height: 0;max-width: 0;overflow: hidden;text-align: left;background-color: #f0f8ff;}#sk-container-id-2 div.sk-toggleable__content pre {margin: 0.2em;color: black;border-radius: 0.25em;background-color: #f0f8ff;}#sk-container-id-2 input.sk-toggleable__control:checked~div.sk-toggleable__content {max-height: 200px;max-width: 100%;overflow: auto;}#sk-container-id-2 input.sk-toggleable__control:checked~label.sk-toggleable__label-arrow:before {content: \"▾\";}#sk-container-id-2 div.sk-estimator input.sk-toggleable__control:checked~label.sk-toggleable__label {background-color: #d4ebff;}#sk-container-id-2 div.sk-label input.sk-toggleable__control:checked~label.sk-toggleable__label {background-color: #d4ebff;}#sk-container-id-2 input.sk-hidden--visually {border: 0;clip: rect(1px 1px 1px 1px);clip: rect(1px, 1px, 1px, 1px);height: 1px;margin: -1px;overflow: hidden;padding: 0;position: absolute;width: 1px;}#sk-container-id-2 div.sk-estimator {font-family: monospace;background-color: #f0f8ff;border: 1px dotted black;border-radius: 0.25em;box-sizing: border-box;margin-bottom: 0.5em;}#sk-container-id-2 div.sk-estimator:hover {background-color: #d4ebff;}#sk-container-id-2 div.sk-parallel-item::after {content: \"\";width: 100%;border-bottom: 1px solid gray;flex-grow: 1;}#sk-container-id-2 div.sk-label:hover label.sk-toggleable__label {background-color: #d4ebff;}#sk-container-id-2 div.sk-serial::before {content: \"\";position: absolute;border-left: 1px solid gray;box-sizing: border-box;top: 0;bottom: 0;left: 50%;z-index: 0;}#sk-container-id-2 div.sk-serial {display: flex;flex-direction: column;align-items: center;background-color: white;padding-right: 0.2em;padding-left: 0.2em;position: relative;}#sk-container-id-2 div.sk-item {position: relative;z-index: 1;}#sk-container-id-2 div.sk-parallel {display: flex;align-items: stretch;justify-content: center;background-color: white;position: relative;}#sk-container-id-2 div.sk-item::before, #sk-container-id-2 div.sk-parallel-item::before {content: \"\";position: absolute;border-left: 1px solid gray;box-sizing: border-box;top: 0;bottom: 0;left: 50%;z-index: -1;}#sk-container-id-2 div.sk-parallel-item {display: flex;flex-direction: column;z-index: 1;position: relative;background-color: white;}#sk-container-id-2 div.sk-parallel-item:first-child::after {align-self: flex-end;width: 50%;}#sk-container-id-2 div.sk-parallel-item:last-child::after {align-self: flex-start;width: 50%;}#sk-container-id-2 div.sk-parallel-item:only-child::after {width: 0;}#sk-container-id-2 div.sk-dashed-wrapped {border: 1px dashed gray;margin: 0 0.4em 0.5em 0.4em;box-sizing: border-box;padding-bottom: 0.4em;background-color: white;}#sk-container-id-2 div.sk-label label {font-family: monospace;font-weight: bold;display: inline-block;line-height: 1.2em;}#sk-container-id-2 div.sk-label-container {text-align: center;}#sk-container-id-2 div.sk-container {/* jupyter's `normalize.less` sets `[hidden] { display: none; }` but bootstrap.min.css set `[hidden] { display: none !important; }` so we also need the `!important` here to be able to override the default hidden behavior on the sphinx rendered scikit-learn.org. See: https://github.com/scikit-learn/scikit-learn/issues/21755 */display: inline-block !important;position: relative;}#sk-container-id-2 div.sk-text-repr-fallback {display: none;}</style><div id=\"sk-container-id-2\" class=\"sk-top-container\"><div class=\"sk-text-repr-fallback\"><pre>HalvingGridSearchCV(estimator=SVC(),\n",
              "                    param_grid={&#x27;C&#x27;: array([2, 4, 6, 8]),\n",
              "                                &#x27;gamma&#x27;: array([0.1, 0.3, 0.5, 0.7, 0.9]),\n",
              "                                &#x27;kernel&#x27;: [&#x27;linear&#x27;, &#x27;poly&#x27;]},\n",
              "                    verbose=3)</pre><b>In a Jupyter environment, please rerun this cell to show the HTML representation or trust the notebook. <br />On GitHub, the HTML representation is unable to render, please try loading this page with nbviewer.org.</b></div><div class=\"sk-container\" hidden><div class=\"sk-item sk-dashed-wrapped\"><div class=\"sk-label-container\"><div class=\"sk-label sk-toggleable\"><input class=\"sk-toggleable__control sk-hidden--visually\" id=\"sk-estimator-id-4\" type=\"checkbox\" ><label for=\"sk-estimator-id-4\" class=\"sk-toggleable__label sk-toggleable__label-arrow\">HalvingGridSearchCV</label><div class=\"sk-toggleable__content\"><pre>HalvingGridSearchCV(estimator=SVC(),\n",
              "                    param_grid={&#x27;C&#x27;: array([2, 4, 6, 8]),\n",
              "                                &#x27;gamma&#x27;: array([0.1, 0.3, 0.5, 0.7, 0.9]),\n",
              "                                &#x27;kernel&#x27;: [&#x27;linear&#x27;, &#x27;poly&#x27;]},\n",
              "                    verbose=3)</pre></div></div></div><div class=\"sk-parallel\"><div class=\"sk-parallel-item\"><div class=\"sk-item\"><div class=\"sk-label-container\"><div class=\"sk-label sk-toggleable\"><input class=\"sk-toggleable__control sk-hidden--visually\" id=\"sk-estimator-id-5\" type=\"checkbox\" ><label for=\"sk-estimator-id-5\" class=\"sk-toggleable__label sk-toggleable__label-arrow\">estimator: SVC</label><div class=\"sk-toggleable__content\"><pre>SVC()</pre></div></div></div><div class=\"sk-serial\"><div class=\"sk-item\"><div class=\"sk-estimator sk-toggleable\"><input class=\"sk-toggleable__control sk-hidden--visually\" id=\"sk-estimator-id-6\" type=\"checkbox\" ><label for=\"sk-estimator-id-6\" class=\"sk-toggleable__label sk-toggleable__label-arrow\">SVC</label><div class=\"sk-toggleable__content\"><pre>SVC()</pre></div></div></div></div></div></div></div></div></div></div>"
            ]
          },
          "metadata": {},
          "execution_count": 46
        }
      ]
    },
    {
      "cell_type": "code",
      "source": [
        "prediction_svm_smote=grid_smote_svm.predict(x_test)"
      ],
      "metadata": {
        "id": "bflLmNoMVqpW"
      },
      "execution_count": null,
      "outputs": []
    },
    {
      "cell_type": "markdown",
      "source": [
        "### Confusion matrix"
      ],
      "metadata": {
        "id": "u1bV6y-WgFT_"
      }
    },
    {
      "cell_type": "code",
      "source": [
        "conf_svm_smote=confusion_matrix(y_test,prediction_svm_smote)\n",
        "disp=ConfusionMatrixDisplay(conf_svm_smote)\n",
        "disp.plot()"
      ],
      "metadata": {
        "colab": {
          "base_uri": "https://localhost:8080/",
          "height": 467
        },
        "id": "NZ_lUXdjgB81",
        "outputId": "2cefa043-dfe4-45f2-97b6-6cc8d592d98e"
      },
      "execution_count": null,
      "outputs": [
        {
          "output_type": "execute_result",
          "data": {
            "text/plain": [
              "<sklearn.metrics._plot.confusion_matrix.ConfusionMatrixDisplay at 0x7f88957331f0>"
            ]
          },
          "metadata": {},
          "execution_count": 48
        },
        {
          "output_type": "display_data",
          "data": {
            "text/plain": [
              "<Figure size 640x480 with 2 Axes>"
            ],
            "image/png": "[encoded data removed]"
          },
          "metadata": {}
        }
      ]
    },
    {
      "cell_type": "code",
      "source": [
        "\n",
        "\n",
        "prec = precision_score(y_test, prediction_svm_smote, average='macro')\n",
        "recall= recall_score (y_test, prediction_svm_smote, average='macro')\n",
        "f1 = f1_score(y_test, prediction_svm_smote, average='macro')\n",
        "acc= accuracy_score(y_test, prediction_svm_smote)\n",
        "\n",
        "print(f\"precision score = {prec}\")\n",
        "print(f\"recall score = {recall}\")\n",
        "print(f\"f1_score = {f1}\")\n",
        "print(f\"accuracy= {acc}\")"
      ],
      "metadata": {
        "colab": {
          "base_uri": "https://localhost:8080/"
        },
        "id": "ifvyJvyCgm2O",
        "outputId": "8e59bb35-e99f-4a52-ea2a-1922c0dfd5d4"
      },
      "execution_count": null,
      "outputs": [
        {
          "output_type": "stream",
          "name": "stdout",
          "text": [
            "precision score = 0.48082191780821915\n",
            "recall score = 0.48185410016222724\n",
            "f1_score = 0.48115798037394614\n",
            "accuracy= 0.6478310502283106\n"
          ]
        }
      ]
    },
    {
      "cell_type": "markdown",
      "source": [
        "## Logistic regression"
      ],
      "metadata": {
        "id": "FfQg1R9MWuIB"
      }
    },
    {
      "cell_type": "code",
      "source": [
        "from sklearn.linear_model import LogisticRegression\n",
        "log_reg = LogisticRegression(C=5,random_state=42)"
      ],
      "metadata": {
        "id": "XOpACly0Wvyn"
      },
      "execution_count": null,
      "outputs": []
    },
    {
      "cell_type": "markdown",
      "source": [
        "### for normal imbalanced dataset"
      ],
      "metadata": {
        "id": "_ygWz2Kb1qTV"
      }
    },
    {
      "cell_type": "code",
      "source": [
        "log_reg_n = LogisticRegression(C=5,random_state=42)"
      ],
      "metadata": {
        "id": "QBD5gMrc1t-x"
      },
      "execution_count": null,
      "outputs": []
    },
    {
      "cell_type": "code",
      "source": [
        "log_reg_n.fit(x_train,y_train)"
      ],
      "metadata": {
        "colab": {
          "base_uri": "https://localhost:8080/",
          "height": 75
        },
        "id": "SNmA2fkD11PM",
        "outputId": "6f889d4d-605a-4468-c264-685503842b20"
      },
      "execution_count": null,
      "outputs": [
        {
          "output_type": "execute_result",
          "data": {
            "text/plain": [
              "LogisticRegression(C=5, random_state=42)"
            ],
            "text/html": [
              "<style>#sk-container-id-3 {color: black;background-color: white;}#sk-container-id-3 pre{padding: 0;}#sk-container-id-3 div.sk-toggleable {background-color: white;}#sk-container-id-3 label.sk-toggleable__label {cursor: pointer;display: block;width: 100%;margin-bottom: 0;padding: 0.3em;box-sizing: border-box;text-align: center;}#sk-container-id-3 label.sk-toggleable__label-arrow:before {content: \"▸\";float: left;margin-right: 0.25em;color: #696969;}#sk-container-id-3 label.sk-toggleable__label-arrow:hover:before {color: black;}#sk-container-id-3 div.sk-estimator:hover label.sk-toggleable__label-arrow:before {color: black;}#sk-container-id-3 div.sk-toggleable__content {max-height: 0;max-width: 0;overflow: hidden;text-align: left;background-color: #f0f8ff;}#sk-container-id-3 div.sk-toggleable__content pre {margin: 0.2em;color: black;border-radius: 0.25em;background-color: #f0f8ff;}#sk-container-id-3 input.sk-toggleable__control:checked~div.sk-toggleable__content {max-height: 200px;max-width: 100%;overflow: auto;}#sk-container-id-3 input.sk-toggleable__control:checked~label.sk-toggleable__label-arrow:before {content: \"▾\";}#sk-container-id-3 div.sk-estimator input.sk-toggleable__control:checked~label.sk-toggleable__label {background-color: #d4ebff;}#sk-container-id-3 div.sk-label input.sk-toggleable__control:checked~label.sk-toggleable__label {background-color: #d4ebff;}#sk-container-id-3 input.sk-hidden--visually {border: 0;clip: rect(1px 1px 1px 1px);clip: rect(1px, 1px, 1px, 1px);height: 1px;margin: -1px;overflow: hidden;padding: 0;position: absolute;width: 1px;}#sk-container-id-3 div.sk-estimator {font-family: monospace;background-color: #f0f8ff;border: 1px dotted black;border-radius: 0.25em;box-sizing: border-box;margin-bottom: 0.5em;}#sk-container-id-3 div.sk-estimator:hover {background-color: #d4ebff;}#sk-container-id-3 div.sk-parallel-item::after {content: \"\";width: 100%;border-bottom: 1px solid gray;flex-grow: 1;}#sk-container-id-3 div.sk-label:hover label.sk-toggleable__label {background-color: #d4ebff;}#sk-container-id-3 div.sk-serial::before {content: \"\";position: absolute;border-left: 1px solid gray;box-sizing: border-box;top: 0;bottom: 0;left: 50%;z-index: 0;}#sk-container-id-3 div.sk-serial {display: flex;flex-direction: column;align-items: center;background-color: white;padding-right: 0.2em;padding-left: 0.2em;position: relative;}#sk-container-id-3 div.sk-item {position: relative;z-index: 1;}#sk-container-id-3 div.sk-parallel {display: flex;align-items: stretch;justify-content: center;background-color: white;position: relative;}#sk-container-id-3 div.sk-item::before, #sk-container-id-3 div.sk-parallel-item::before {content: \"\";position: absolute;border-left: 1px solid gray;box-sizing: border-box;top: 0;bottom: 0;left: 50%;z-index: -1;}#sk-container-id-3 div.sk-parallel-item {display: flex;flex-direction: column;z-index: 1;position: relative;background-color: white;}#sk-container-id-3 div.sk-parallel-item:first-child::after {align-self: flex-end;width: 50%;}#sk-container-id-3 div.sk-parallel-item:last-child::after {align-self: flex-start;width: 50%;}#sk-container-id-3 div.sk-parallel-item:only-child::after {width: 0;}#sk-container-id-3 div.sk-dashed-wrapped {border: 1px dashed gray;margin: 0 0.4em 0.5em 0.4em;box-sizing: border-box;padding-bottom: 0.4em;background-color: white;}#sk-container-id-3 div.sk-label label {font-family: monospace;font-weight: bold;display: inline-block;line-height: 1.2em;}#sk-container-id-3 div.sk-label-container {text-align: center;}#sk-container-id-3 div.sk-container {/* jupyter's `normalize.less` sets `[hidden] { display: none; }` but bootstrap.min.css set `[hidden] { display: none !important; }` so we also need the `!important` here to be able to override the default hidden behavior on the sphinx rendered scikit-learn.org. See: https://github.com/scikit-learn/scikit-learn/issues/21755 */display: inline-block !important;position: relative;}#sk-container-id-3 div.sk-text-repr-fallback {display: none;}</style><div id=\"sk-container-id-3\" class=\"sk-top-container\"><div class=\"sk-text-repr-fallback\"><pre>LogisticRegression(C=5, random_state=42)</pre><b>In a Jupyter environment, please rerun this cell to show the HTML representation or trust the notebook. <br />On GitHub, the HTML representation is unable to render, please try loading this page with nbviewer.org.</b></div><div class=\"sk-container\" hidden><div class=\"sk-item\"><div class=\"sk-estimator sk-toggleable\"><input class=\"sk-toggleable__control sk-hidden--visually\" id=\"sk-estimator-id-7\" type=\"checkbox\" checked><label for=\"sk-estimator-id-7\" class=\"sk-toggleable__label sk-toggleable__label-arrow\">LogisticRegression</label><div class=\"sk-toggleable__content\"><pre>LogisticRegression(C=5, random_state=42)</pre></div></div></div></div></div>"
            ]
          },
          "metadata": {},
          "execution_count": 52
        }
      ]
    },
    {
      "cell_type": "code",
      "source": [
        "predictions_logreg_n=log_reg_n.predict(x_test)"
      ],
      "metadata": {
        "id": "yzzubsr42ABn"
      },
      "execution_count": null,
      "outputs": []
    },
    {
      "cell_type": "code",
      "source": [
        "conf_log_n=confusion_matrix(y_test,predictions_logreg_n)\n",
        "disp_n=ConfusionMatrixDisplay(conf_log_n)\n",
        "disp_n.plot()"
      ],
      "metadata": {
        "colab": {
          "base_uri": "https://localhost:8080/",
          "height": 467
        },
        "id": "nbwqlRsw16Dy",
        "outputId": "81686284-f90a-4ae8-df42-966537b23bd5"
      },
      "execution_count": null,
      "outputs": [
        {
          "output_type": "execute_result",
          "data": {
            "text/plain": [
              "<sklearn.metrics._plot.confusion_matrix.ConfusionMatrixDisplay at 0x7f8894cabd90>"
            ]
          },
          "metadata": {},
          "execution_count": 55
        },
        {
          "output_type": "display_data",
          "data": {
            "text/plain": [
              "<Figure size 640x480 with 2 Axes>"
            ],
            "image/png": "[encoded data removed]"
          },
          "metadata": {}
        }
      ]
    },
    {
      "cell_type": "markdown",
      "source": [
        "### for smote balanced data"
      ],
      "metadata": {
        "id": "rx564FiH1nVb"
      }
    },
    {
      "cell_type": "code",
      "source": [
        "log_reg= LogisticRegression(C=5,random_state=42)"
      ],
      "metadata": {
        "id": "TE-5N3o51w26"
      },
      "execution_count": null,
      "outputs": []
    },
    {
      "cell_type": "code",
      "source": [
        "log_reg.fit(x_smt,y_smt)"
      ],
      "metadata": {
        "colab": {
          "base_uri": "https://localhost:8080/",
          "height": 75
        },
        "id": "eKSMJDlbXv4s",
        "outputId": "270bdaef-8c4c-4a66-f4f7-248086a9216f"
      },
      "execution_count": null,
      "outputs": [
        {
          "output_type": "execute_result",
          "data": {
            "text/plain": [
              "LogisticRegression(C=5, random_state=42)"
            ],
            "text/html": [
              "<style>#sk-container-id-4 {color: black;background-color: white;}#sk-container-id-4 pre{padding: 0;}#sk-container-id-4 div.sk-toggleable {background-color: white;}#sk-container-id-4 label.sk-toggleable__label {cursor: pointer;display: block;width: 100%;margin-bottom: 0;padding: 0.3em;box-sizing: border-box;text-align: center;}#sk-container-id-4 label.sk-toggleable__label-arrow:before {content: \"▸\";float: left;margin-right: 0.25em;color: #696969;}#sk-container-id-4 label.sk-toggleable__label-arrow:hover:before {color: black;}#sk-container-id-4 div.sk-estimator:hover label.sk-toggleable__label-arrow:before {color: black;}#sk-container-id-4 div.sk-toggleable__content {max-height: 0;max-width: 0;overflow: hidden;text-align: left;background-color: #f0f8ff;}#sk-container-id-4 div.sk-toggleable__content pre {margin: 0.2em;color: black;border-radius: 0.25em;background-color: #f0f8ff;}#sk-container-id-4 input.sk-toggleable__control:checked~div.sk-toggleable__content {max-height: 200px;max-width: 100%;overflow: auto;}#sk-container-id-4 input.sk-toggleable__control:checked~label.sk-toggleable__label-arrow:before {content: \"▾\";}#sk-container-id-4 div.sk-estimator input.sk-toggleable__control:checked~label.sk-toggleable__label {background-color: #d4ebff;}#sk-container-id-4 div.sk-label input.sk-toggleable__control:checked~label.sk-toggleable__label {background-color: #d4ebff;}#sk-container-id-4 input.sk-hidden--visually {border: 0;clip: rect(1px 1px 1px 1px);clip: rect(1px, 1px, 1px, 1px);height: 1px;margin: -1px;overflow: hidden;padding: 0;position: absolute;width: 1px;}#sk-container-id-4 div.sk-estimator {font-family: monospace;background-color: #f0f8ff;border: 1px dotted black;border-radius: 0.25em;box-sizing: border-box;margin-bottom: 0.5em;}#sk-container-id-4 div.sk-estimator:hover {background-color: #d4ebff;}#sk-container-id-4 div.sk-parallel-item::after {content: \"\";width: 100%;border-bottom: 1px solid gray;flex-grow: 1;}#sk-container-id-4 div.sk-label:hover label.sk-toggleable__label {background-color: #d4ebff;}#sk-container-id-4 div.sk-serial::before {content: \"\";position: absolute;border-left: 1px solid gray;box-sizing: border-box;top: 0;bottom: 0;left: 50%;z-index: 0;}#sk-container-id-4 div.sk-serial {display: flex;flex-direction: column;align-items: center;background-color: white;padding-right: 0.2em;padding-left: 0.2em;position: relative;}#sk-container-id-4 div.sk-item {position: relative;z-index: 1;}#sk-container-id-4 div.sk-parallel {display: flex;align-items: stretch;justify-content: center;background-color: white;position: relative;}#sk-container-id-4 div.sk-item::before, #sk-container-id-4 div.sk-parallel-item::before {content: \"\";position: absolute;border-left: 1px solid gray;box-sizing: border-box;top: 0;bottom: 0;left: 50%;z-index: -1;}#sk-container-id-4 div.sk-parallel-item {display: flex;flex-direction: column;z-index: 1;position: relative;background-color: white;}#sk-container-id-4 div.sk-parallel-item:first-child::after {align-self: flex-end;width: 50%;}#sk-container-id-4 div.sk-parallel-item:last-child::after {align-self: flex-start;width: 50%;}#sk-container-id-4 div.sk-parallel-item:only-child::after {width: 0;}#sk-container-id-4 div.sk-dashed-wrapped {border: 1px dashed gray;margin: 0 0.4em 0.5em 0.4em;box-sizing: border-box;padding-bottom: 0.4em;background-color: white;}#sk-container-id-4 div.sk-label label {font-family: monospace;font-weight: bold;display: inline-block;line-height: 1.2em;}#sk-container-id-4 div.sk-label-container {text-align: center;}#sk-container-id-4 div.sk-container {/* jupyter's `normalize.less` sets `[hidden] { display: none; }` but bootstrap.min.css set `[hidden] { display: none !important; }` so we also need the `!important` here to be able to override the default hidden behavior on the sphinx rendered scikit-learn.org. See: https://github.com/scikit-learn/scikit-learn/issues/21755 */display: inline-block !important;position: relative;}#sk-container-id-4 div.sk-text-repr-fallback {display: none;}</style><div id=\"sk-container-id-4\" class=\"sk-top-container\"><div class=\"sk-text-repr-fallback\"><pre>LogisticRegression(C=5, random_state=42)</pre><b>In a Jupyter environment, please rerun this cell to show the HTML representation or trust the notebook. <br />On GitHub, the HTML representation is unable to render, please try loading this page with nbviewer.org.</b></div><div class=\"sk-container\" hidden><div class=\"sk-item\"><div class=\"sk-estimator sk-toggleable\"><input class=\"sk-toggleable__control sk-hidden--visually\" id=\"sk-estimator-id-8\" type=\"checkbox\" checked><label for=\"sk-estimator-id-8\" class=\"sk-toggleable__label sk-toggleable__label-arrow\">LogisticRegression</label><div class=\"sk-toggleable__content\"><pre>LogisticRegression(C=5, random_state=42)</pre></div></div></div></div></div>"
            ]
          },
          "metadata": {},
          "execution_count": 57
        }
      ]
    },
    {
      "cell_type": "code",
      "source": [
        "predictions_logreg=log_reg.predict(x_test)"
      ],
      "metadata": {
        "id": "vtsjLYYJYS4y"
      },
      "execution_count": null,
      "outputs": []
    },
    {
      "cell_type": "code",
      "source": [
        "conf_log=confusion_matrix(y_test,predictions_logreg)\n",
        "disp=ConfusionMatrixDisplay(conf_log)\n",
        "disp.plot()"
      ],
      "metadata": {
        "colab": {
          "base_uri": "https://localhost:8080/",
          "height": 472
        },
        "id": "mt0tVWmNXmoR",
        "outputId": "d4595c71-6987-4cc5-bccc-28d7cf6c0d4d"
      },
      "execution_count": null,
      "outputs": [
        {
          "output_type": "execute_result",
          "data": {
            "text/plain": [
              "<sklearn.metrics._plot.confusion_matrix.ConfusionMatrixDisplay at 0x7f8894caaf20>"
            ]
          },
          "metadata": {},
          "execution_count": 59
        },
        {
          "output_type": "display_data",
          "data": {
            "text/plain": [
              "<Figure size 640x480 with 2 Axes>"
            ],
            "image/png": "[encoded data removed]"
          },
          "metadata": {}
        }
      ]
    },
    {
      "cell_type": "code",
      "source": [
        "prec = precision_score(y_test, predictions_logreg, average='macro')\n",
        "recall= recall_score (y_test, predictions_logreg, average='macro')\n",
        "f1 = f1_score(y_test, predictions_logreg, average='macro')\n",
        "acc= accuracy_score(y_test, predictions_logreg)\n",
        "\n",
        "print(f\"precision score = {prec}\")\n",
        "print(f\"recall score = {recall}\")\n",
        "print(f\"f1_score = {f1}\")\n",
        "print(f\"accuracy= {acc}\")"
      ],
      "metadata": {
        "colab": {
          "base_uri": "https://localhost:8080/"
        },
        "id": "WqMTOcvQ1VuY",
        "outputId": "9e20642f-fa62-4bb3-e734-302f2c20a205"
      },
      "execution_count": null,
      "outputs": [
        {
          "output_type": "stream",
          "name": "stdout",
          "text": [
            "precision score = 0.5083062260842357\n",
            "recall score = 0.5119072538743898\n",
            "f1_score = 0.47101280360531816\n",
            "accuracy= 0.514269406392694\n"
          ]
        }
      ]
    },
    {
      "cell_type": "markdown",
      "source": [
        "## Saving the trained model for use in the future"
      ],
      "metadata": {
        "id": "7nXTp5Sb9WHy"
      }
    },
    {
      "cell_type": "code",
      "source": [
        "from joblib import dump, load\n",
        "dump(grid_smote_svm, 'model.joblib')"
      ],
      "metadata": {
        "colab": {
          "base_uri": "https://localhost:8080/"
        },
        "id": "L0RyeIkY8FfV",
        "outputId": "e3a4cb13-f577-4976-89ab-3b94c85a05bf"
      },
      "execution_count": null,
      "outputs": [
        {
          "output_type": "execute_result",
          "data": {
            "text/plain": [
              "['model.joblib']"
            ]
          },
          "metadata": {},
          "execution_count": 61
        }
      ]
    }
  ]
}